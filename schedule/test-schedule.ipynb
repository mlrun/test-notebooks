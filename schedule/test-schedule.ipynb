{
 "cells": [
  {
   "cell_type": "markdown",
   "id": "0772cb1b",
   "metadata": {},
   "source": [
    "# Checking schedules"
   ]
  },
  {
   "cell_type": "markdown",
   "id": "f7fbf842",
   "metadata": {},
   "source": [
    "This notebook contains:\n",
    "1. Checking that the schedules submitted correctly via different flows (workflow, cli and run_function).\n",
    "2. The access key of the schedule is not exposed.\n",
    "3. Overwriting workflow scheduling works."
   ]
  },
  {
   "cell_type": "code",
   "execution_count": null,
   "id": "c76b7888",
   "metadata": {},
   "outputs": [],
   "source": [
    "%config Completer.use_jedi = False"
   ]
  },
  {
   "cell_type": "code",
   "execution_count": null,
   "id": "52be8c5a",
   "metadata": {},
   "outputs": [],
   "source": [
    "import mlrun\n",
    "import os"
   ]
  },
  {
   "cell_type": "code",
   "execution_count": null,
   "id": "2a3393d0",
   "metadata": {},
   "outputs": [],
   "source": [
    "run_db = mlrun.get_run_db()"
   ]
  },
  {
   "cell_type": "markdown",
   "id": "8faa69c2",
   "metadata": {},
   "source": [
    "## Loading project with workflows"
   ]
  },
  {
   "cell_type": "code",
   "execution_count": null,
   "id": "d1a216f4",
   "metadata": {},
   "outputs": [],
   "source": [
    "PROJECT_NAME = \"schedule-test\""
   ]
  },
  {
   "cell_type": "code",
   "execution_count": null,
   "id": "9fab0d72",
   "metadata": {},
   "outputs": [],
   "source": [
    "project = mlrun.load_project(f\"./{PROJECT_NAME}\", \"git://github.com/mlrun/project-demo.git\", PROJECT_NAME, allow_cross_project=True)"
   ]
  },
  {
   "cell_type": "code",
   "execution_count": null,
   "id": "2f466b11",
   "metadata": {},
   "outputs": [],
   "source": [
    "def assert_schedule_access_key_is_not_exposed(name: str):\n",
    "    schedule = run_db.api_call(\"GET\", f\"projects/{project.name}/schedules/{name}\", params={\"include-credentials\": True}).json()\n",
    "    assert schedule[\"credentials\"][\"access_key\"].startswith(\"$ref:mlrun-auth-secrets.\")\n",
    "    print(\"Pass!\")\n",
    "\n",
    "def assert_schedule_overwritten(name: str, schedule: str):\n",
    "    scheduled_job = run_db.get_schedule(project.name, name)\n",
    "    assert scheduled_job.scheduled_object[\"schedule\"] == schedule\n",
    "    print(\"Pass!\")\n",
    "    "
   ]
  },
  {
   "cell_type": "markdown",
   "id": "487e218c",
   "metadata": {},
   "source": [
    "## Running the workflow"
   ]
  },
  {
   "cell_type": "code",
   "execution_count": null,
   "id": "ac49647d",
   "metadata": {},
   "outputs": [],
   "source": [
    "out = os.system(f\"cd ./{PROJECT_NAME}; git config --global --add safe.directory {os.path.abspath(PROJECT_NAME)}\")"
   ]
  },
  {
   "cell_type": "code",
   "execution_count": null,
   "id": "35f2f449",
   "metadata": {},
   "outputs": [],
   "source": [
    "project.run(\"main\", schedule=\"*/10 * * * *\")"
   ]
  },
  {
   "cell_type": "code",
   "execution_count": null,
   "id": "a0edad21",
   "metadata": {},
   "outputs": [],
   "source": [
    "if not mlrun.mlconf.is_ce_mode():\n",
    "    assert_schedule_access_key_is_not_exposed(\"main\")"
   ]
  },
  {
   "cell_type": "markdown",
   "id": "92b0b21e",
   "metadata": {},
   "source": [
    "## Overwriting a schedule "
   ]
  },
  {
   "cell_type": "code",
   "execution_count": null,
   "id": "8e24076e",
   "metadata": {},
   "outputs": [],
   "source": [
    "project.run(\"main\", schedule=\"*/20 * * * *\", dirty=True)"
   ]
  },
  {
   "cell_type": "code",
   "execution_count": null,
   "id": "0fbf6af7",
   "metadata": {},
   "outputs": [],
   "source": [
    "if not mlrun.mlconf.is_ce_mode():\n",
    "    assert_schedule_access_key_is_not_exposed(\"main\")\n",
    "assert_schedule_overwritten(\"main\", \"*/20 * * * *\")"
   ]
  },
  {
   "cell_type": "markdown",
   "id": "ac3b9ebb",
   "metadata": {},
   "source": [
    "### Check from CLI"
   ]
  },
  {
   "cell_type": "code",
   "execution_count": null,
   "id": "a773b93e",
   "metadata": {},
   "outputs": [],
   "source": [
    "out = os.popen(f\"mlrun project ./{PROJECT_NAME} -r main -d --schedule '*/15 * * * *'\").read()\n",
    "print(out)"
   ]
  },
  {
   "cell_type": "code",
   "execution_count": null,
   "id": "c31357cf",
   "metadata": {},
   "outputs": [],
   "source": [
    "if not mlrun.mlconf.is_ce_mode():\n",
    "    assert_schedule_access_key_is_not_exposed(\"main\")\n",
    "assert_schedule_overwritten(\"main\", \"*/15 * * * *\")"
   ]
  },
  {
   "cell_type": "markdown",
   "id": "b8601333",
   "metadata": {},
   "source": [
    "## Check function scheduling"
   ]
  },
  {
   "cell_type": "code",
   "execution_count": null,
   "id": "c529944a",
   "metadata": {},
   "outputs": [],
   "source": [
    "mlrun.run_function(\"prep-data\", schedule=\"*/10 * * * *\", name=\"data-preparation\")"
   ]
  },
  {
   "cell_type": "code",
   "execution_count": null,
   "id": "6d0003d6",
   "metadata": {},
   "outputs": [],
   "source": [
    "if not mlrun.mlconf.is_ce_mode():\n",
    "    assert_schedule_access_key_is_not_exposed(\"data-preparation\")"
   ]
  }
 ],
 "metadata": {
  "kernelspec": {
   "display_name": "Python 3 (ipykernel)",
   "language": "python",
   "name": "python3"
  },
  "language_info": {
   "codemirror_mode": {
    "name": "ipython",
    "version": 3
   },
   "file_extension": ".py",
   "mimetype": "text/x-python",
   "name": "python",
   "nbconvert_exporter": "python",
   "pygments_lexer": "ipython3",
   "version": "3.11.10"
  }
 },
 "nbformat": 4,
 "nbformat_minor": 5
}
