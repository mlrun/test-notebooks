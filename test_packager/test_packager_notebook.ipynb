{
 "cells": [
  {
   "cell_type": "markdown",
   "id": "b5babd3c-b2db-4cd2-9ff1-666987715169",
   "metadata": {},
   "source": [
    "# This notebook test full workflow while using MLRun packgers\n",
    "\n",
    "This notebook will test :\n",
    "\n",
    "1. Loging object to MLRun such as: `pd.DataFrame, np.ndarray, str and list`.\n",
    "2. Unpack `pd.DataFrame, np.ndarray, str and list` and compare them to the original values.\n",
    "3. Logging object to MLRun such as: `pd.DataFrame, np.ndarray, string, list` with non default artifact type and file format.\n",
    "4. Unpack outputs from step 3 and validate the expcted values are matched to the original \n",
    "5. Pack Custom packager that pack a zip file path to a zip file\n",
    "6. Unpack Custom packager"
   ]
  },
  {
   "cell_type": "code",
   "execution_count": 1,
   "id": "3e226790-72ab-4d35-9184-981faec48e6b",
   "metadata": {},
   "outputs": [],
   "source": [
    "import mlrun\n",
    "import pandas as pd\n",
    "import numpy as np\n",
    "import os\n",
    "import shutil"
   ]
  },
  {
   "cell_type": "code",
   "execution_count": 2,
   "id": "48f05f06-2e80-4386-b18c-649291fd5463",
   "metadata": {},
   "outputs": [
    {
     "name": "stdout",
     "output_type": "stream",
     "text": [
      "> 2023-07-09 15:56:19,326 [info] Created and saved project: {'name': 'test-pack-gilad', 'from_template': None, 'overwrite': False, 'context': './context', 'save': True}\n",
      "> 2023-07-09 15:56:19,328 [info] Project created successfully: {'project_name': 'test-pack', 'stored_in_db': True}\n"
     ]
    }
   ],
   "source": [
    "project = mlrun.get_or_create_project(\"test-pack\",'./context',user_project=True)"
   ]
  },
  {
   "cell_type": "markdown",
   "id": "63a30064-1313-43be-babc-6da4bdac0fdb",
   "metadata": {},
   "source": [
    "## 1.  Loging object to MLRun such as: `pd.DataFrame, np.array, string, list`\n",
    "\n",
    "Expcted logging result:\n",
    "* `pd.DataFrame` - as dataset artifact type and default parquet file\n",
    "* `np.nparray` - as artifact artifact type and default npy file\n",
    "* `str` - as a run result \n",
    "* `list` as a run result"
   ]
  },
  {
   "cell_type": "code",
   "execution_count": 3,
   "id": "71d4fd79-c9a8-4adc-9677-f4a9c4d53db8",
   "metadata": {},
   "outputs": [
    {
     "name": "stdout",
     "output_type": "stream",
     "text": [
      "Writing ./context/generate-outputs.py\n"
     ]
    }
   ],
   "source": [
    "%%writefile ./context/generate-outputs.py\n",
    "import numpy as np\n",
    "import pandas as pd\n",
    "\n",
    "\n",
    "def generate_outputs():\n",
    "    df_true = pd.DataFrame(\n",
    "        data={\n",
    "            **{f\"column_{i}\": np.arange(0, 1000) for i in range(1, 10)},\n",
    "        },\n",
    "    ).set_index(keys=[\"column_7\", \"column_8\", \"column_9\"])\n",
    "\n",
    "    np_example = np.array(\n",
    "        [[[1, 2, 3], [4, 5, 6], [7, 8, 9]], [[1, 2, 3], [4, 5, 6], [7, 8, 9]]]\n",
    "    )\n",
    "\n",
    "    example_string = \"Example_String\"\n",
    "\n",
    "    example_list = [1, 2, 3, 4, 5, 6, 7, 8, 9, \"A\"]\n",
    "    return df_true, np_example, example_string, example_list\n"
   ]
  },
  {
   "cell_type": "code",
   "execution_count": 4,
   "id": "c922ad32-38b3-4e14-a8e3-14dea35e98ad",
   "metadata": {},
   "outputs": [
    {
     "name": "stdout",
     "output_type": "stream",
     "text": [
      "> 2023-07-09 15:56:19,377 [warning] Failed to add git metadata, ignore if path is not part of a git repo.: {'path': 'context', 'error': '/User/full_example/context'}\n"
     ]
    },
    {
     "data": {
      "text/plain": [
       "<mlrun.runtimes.kubejob.KubejobRuntime at 0x7fea402c5b20>"
      ]
     },
     "execution_count": 4,
     "metadata": {},
     "output_type": "execute_result"
    }
   ],
   "source": [
    "project.set_function(\"./generate-outputs.py\",name='generate-outputs',kind='job',image='mlrun/mlrun',handler='generate_outputs')"
   ]
  },
  {
   "cell_type": "code",
   "execution_count": 5,
   "id": "80edb280-4ded-4811-a087-f2527a26acd2",
   "metadata": {},
   "outputs": [
    {
     "name": "stdout",
     "output_type": "stream",
     "text": [
      "> 2023-07-09 15:56:19,431 [info] Storing function: {'name': 'generate-outputs-generate-outputs', 'uid': '3a82adddbfce404492f9eb8bc83060fc', 'db': 'http://mlrun-api:8080'}\n",
      "> 2023-07-09 15:56:19,672 [info] Job is running in the background, pod: generate-outputs-generate-outputs-972jr\n",
      "> 2023-07-09 15:56:25,431 [info] Run execution finished: {'status': 'completed', 'name': 'generate-outputs-generate-outputs'}\n",
      "final state: completed\n"
     ]
    },
    {
     "data": {
      "text/html": [
       "<style>\n",
       ".dictlist {\n",
       "  background-color: #4EC64B;\n",
       "  text-align: center;\n",
       "  margin: 4px;\n",
       "  border-radius: 3px; padding: 0px 3px 1px 3px; display: inline-block;}\n",
       ".artifact {\n",
       "  cursor: pointer;\n",
       "  background-color: #4EC64B;\n",
       "  text-align: left;\n",
       "  margin: 4px; border-radius: 3px; padding: 0px 3px 1px 3px; display: inline-block;\n",
       "}\n",
       "div.block.hidden {\n",
       "  display: none;\n",
       "}\n",
       ".clickable {\n",
       "  cursor: pointer;\n",
       "}\n",
       ".ellipsis {\n",
       "  display: inline-block;\n",
       "  max-width: 60px;\n",
       "  white-space: nowrap;\n",
       "  overflow: hidden;\n",
       "  text-overflow: ellipsis;\n",
       "}\n",
       ".master-wrapper {\n",
       "  display: flex;\n",
       "  flex-flow: row nowrap;\n",
       "  justify-content: flex-start;\n",
       "  align-items: stretch;\n",
       "}\n",
       ".master-tbl {\n",
       "  flex: 3\n",
       "}\n",
       ".master-wrapper > div {\n",
       "  margin: 4px;\n",
       "  padding: 10px;\n",
       "}\n",
       "iframe.fileview {\n",
       "  border: 0 none;\n",
       "  height: 100%;\n",
       "  width: 100%;\n",
       "  white-space: pre-wrap;\n",
       "}\n",
       ".pane-header-title {\n",
       "  width: 80%;\n",
       "  font-weight: 500;\n",
       "}\n",
       ".pane-header {\n",
       "  line-height: 1;\n",
       "  background-color: #4EC64B;\n",
       "  padding: 3px;\n",
       "}\n",
       ".pane-header .close {\n",
       "  font-size: 20px;\n",
       "  font-weight: 700;\n",
       "  float: right;\n",
       "  margin-top: -5px;\n",
       "}\n",
       ".master-wrapper .right-pane {\n",
       "  border: 1px inset silver;\n",
       "  width: 40%;\n",
       "  min-height: 300px;\n",
       "  flex: 3\n",
       "  min-width: 500px;\n",
       "}\n",
       ".master-wrapper * {\n",
       "  box-sizing: border-box;\n",
       "}\n",
       "</style><script>\n",
       "function copyToClipboard(fld) {\n",
       "    if (document.queryCommandSupported && document.queryCommandSupported('copy')) {\n",
       "        var textarea = document.createElement('textarea');\n",
       "        textarea.textContent = fld.innerHTML;\n",
       "        textarea.style.position = 'fixed';\n",
       "        document.body.appendChild(textarea);\n",
       "        textarea.select();\n",
       "\n",
       "        try {\n",
       "            return document.execCommand('copy'); // Security exception may be thrown by some browsers.\n",
       "        } catch (ex) {\n",
       "\n",
       "        } finally {\n",
       "            document.body.removeChild(textarea);\n",
       "        }\n",
       "    }\n",
       "}\n",
       "function expandPanel(el) {\n",
       "  const panelName = \"#\" + el.getAttribute('paneName');\n",
       "  console.log(el.title);\n",
       "\n",
       "  document.querySelector(panelName + \"-title\").innerHTML = el.title\n",
       "  iframe = document.querySelector(panelName + \"-body\");\n",
       "\n",
       "  const tblcss = `<style> body { font-family: Arial, Helvetica, sans-serif;}\n",
       "    #csv { margin-bottom: 15px; }\n",
       "    #csv table { border-collapse: collapse;}\n",
       "    #csv table td { padding: 4px 8px; border: 1px solid silver;} </style>`;\n",
       "\n",
       "  function csvToHtmlTable(str) {\n",
       "    return '<div id=\"csv\"><table><tr><td>' +  str.replace(/[\\n\\r]+$/g, '').replace(/[\\n\\r]+/g, '</td></tr><tr><td>')\n",
       "      .replace(/,/g, '</td><td>') + '</td></tr></table></div>';\n",
       "  }\n",
       "\n",
       "  function reqListener () {\n",
       "    if (el.title.endsWith(\".csv\")) {\n",
       "      iframe.setAttribute(\"srcdoc\", tblcss + csvToHtmlTable(this.responseText));\n",
       "    } else {\n",
       "      iframe.setAttribute(\"srcdoc\", this.responseText);\n",
       "    }\n",
       "    console.log(this.responseText);\n",
       "  }\n",
       "\n",
       "  const oReq = new XMLHttpRequest();\n",
       "  oReq.addEventListener(\"load\", reqListener);\n",
       "  oReq.open(\"GET\", el.title);\n",
       "  oReq.send();\n",
       "\n",
       "\n",
       "  //iframe.src = el.title;\n",
       "  const resultPane = document.querySelector(panelName + \"-pane\");\n",
       "  if (resultPane.classList.contains(\"hidden\")) {\n",
       "    resultPane.classList.remove(\"hidden\");\n",
       "  }\n",
       "}\n",
       "function closePanel(el) {\n",
       "  const panelName = \"#\" + el.getAttribute('paneName')\n",
       "  const resultPane = document.querySelector(panelName + \"-pane\");\n",
       "  if (!resultPane.classList.contains(\"hidden\")) {\n",
       "    resultPane.classList.add(\"hidden\");\n",
       "  }\n",
       "}\n",
       "\n",
       "</script>\n",
       "<div class=\"master-wrapper\">\n",
       "  <div class=\"block master-tbl\"><div>\n",
       "<style scoped>\n",
       "    .dataframe tbody tr th:only-of-type {\n",
       "        vertical-align: middle;\n",
       "    }\n",
       "\n",
       "    .dataframe tbody tr th {\n",
       "        vertical-align: top;\n",
       "    }\n",
       "\n",
       "    .dataframe thead th {\n",
       "        text-align: right;\n",
       "    }\n",
       "</style>\n",
       "<table border=\"1\" class=\"dataframe\">\n",
       "  <thead>\n",
       "    <tr style=\"text-align: right;\">\n",
       "      <th>project</th>\n",
       "      <th>uid</th>\n",
       "      <th>iter</th>\n",
       "      <th>start</th>\n",
       "      <th>state</th>\n",
       "      <th>name</th>\n",
       "      <th>labels</th>\n",
       "      <th>inputs</th>\n",
       "      <th>parameters</th>\n",
       "      <th>results</th>\n",
       "      <th>artifacts</th>\n",
       "    </tr>\n",
       "  </thead>\n",
       "  <tbody>\n",
       "    <tr>\n",
       "      <td>test-pack-gilad</td>\n",
       "      <td><div title=\"3a82adddbfce404492f9eb8bc83060fc\"><a href=\"https://dashboard.default-tenant.app.dev28.lab.iguazeng.com/mlprojects/test-pack-gilad/jobs/monitor/3a82adddbfce404492f9eb8bc83060fc/overview\" target=\"_blank\" >...c83060fc</a></div></td>\n",
       "      <td>0</td>\n",
       "      <td>Jul 09 15:56:24</td>\n",
       "      <td>completed</td>\n",
       "      <td>generate-outputs-generate-outputs</td>\n",
       "      <td><div class=\"dictlist\">v3io_user=gilad</div><div class=\"dictlist\">kind=job</div><div class=\"dictlist\">owner=gilad</div><div class=\"dictlist\">mlrun/client_version=1.4.0-rc18</div><div class=\"dictlist\">mlrun/client_python_version=3.9.16</div><div class=\"dictlist\">host=generate-outputs-generate-outputs-972jr</div></td>\n",
       "      <td></td>\n",
       "      <td></td>\n",
       "      <td><div class=\"dictlist\">example_string=Example_String</div><div class=\"dictlist\">example_list=[1, 2, 3, 4, 5, 6, 7, 8, 9, 'A']</div></td>\n",
       "      <td><div title=\"v3io:///projects/test-pack-gilad/artifacts/generate-outputs-generate-outputs/0/df.parquet\">df</div><div title=\"v3io:///projects/test-pack-gilad/artifacts/generate-outputs-generate-outputs/0/np_example.npy\">np_example</div></td>\n",
       "    </tr>\n",
       "  </tbody>\n",
       "</table>\n",
       "</div></div>\n",
       "  <div id=\"result81470419-pane\" class=\"right-pane block hidden\">\n",
       "    <div class=\"pane-header\">\n",
       "      <span id=\"result81470419-title\" class=\"pane-header-title\">Title</span>\n",
       "      <span onclick=\"closePanel(this)\" paneName=\"result81470419\" class=\"close clickable\">&times;</span>\n",
       "    </div>\n",
       "    <iframe class=\"fileview\" id=\"result81470419-body\"></iframe>\n",
       "  </div>\n",
       "</div>\n"
      ],
      "text/plain": [
       "<IPython.core.display.HTML object>"
      ]
     },
     "metadata": {},
     "output_type": "display_data"
    },
    {
     "name": "stdout",
     "output_type": "stream",
     "text": []
    },
    {
     "data": {
      "text/html": [
       "<b> > to track results use the .show() or .logs() methods  or <a href=\"https://dashboard.default-tenant.app.dev28.lab.iguazeng.com/mlprojects/test-pack-gilad/jobs/monitor/3a82adddbfce404492f9eb8bc83060fc/overview\" target=\"_blank\">click here</a> to open in UI</b>"
      ],
      "text/plain": [
       "<IPython.core.display.HTML object>"
      ]
     },
     "metadata": {},
     "output_type": "display_data"
    },
    {
     "name": "stdout",
     "output_type": "stream",
     "text": [
      "> 2023-07-09 15:56:27,792 [info] Run execution finished: {'status': 'completed', 'name': 'generate-outputs-generate-outputs'}\n"
     ]
    }
   ],
   "source": [
    "outputs_run = project.run_function(\"generate-outputs\",returns=[\"df\",\"np_example\",\"example_string\",\"example_list\"])"
   ]
  },
  {
   "cell_type": "markdown",
   "id": "35216cab-7e82-4638-ba4a-eebe09409dd1",
   "metadata": {},
   "source": [
    "**Validate Run Result**"
   ]
  },
  {
   "cell_type": "code",
   "execution_count": 6,
   "id": "73377cce-1f35-4071-9986-ca65bb8e3be4",
   "metadata": {},
   "outputs": [],
   "source": [
    "df_outputs_run = project.get_store_resource(outputs_run.outputs[\"df\"])\n",
    "assert df_outputs_run.kind == 'dataset'\n",
    "assert df_outputs_run.target_path.endswith(\"parquet\")"
   ]
  },
  {
   "cell_type": "code",
   "execution_count": 7,
   "id": "49c7de39-c0f2-4080-99bf-cd58d04f69ae",
   "metadata": {},
   "outputs": [],
   "source": [
    "df_outputs_run = project.get_store_resource(outputs_run.outputs[\"np_example\"])\n",
    "assert df_outputs_run.kind == 'artifact'\n",
    "assert df_outputs_run.target_path.endswith(\"npy\")"
   ]
  },
  {
   "cell_type": "code",
   "execution_count": 8,
   "id": "96979372-5724-44b3-ae37-ac02ca8ddf1a",
   "metadata": {},
   "outputs": [],
   "source": [
    "assert outputs_run.outputs[\"example_string\"]=='Example_String'\n",
    "assert outputs_run.outputs[\"example_list\"]==[1, 2, 3, 4, 5, 6, 7, 8, 9, 'A']"
   ]
  },
  {
   "cell_type": "markdown",
   "id": "abec2e3b-9c9e-4e64-b392-4f6aff806add",
   "metadata": {},
   "source": [
    "## 2. Unpack `pd.DataFrame, np.ndarray, str and list` and compare them to the original values.\n",
    "\n",
    "Expected result - \n",
    "* run the function without any assertion errors and validate the numpy and pandas are unpacked as expcted "
   ]
  },
  {
   "cell_type": "code",
   "execution_count": 9,
   "id": "8f5e8b83-65ee-4886-80b1-19c41bb4a1cc",
   "metadata": {},
   "outputs": [
    {
     "name": "stdout",
     "output_type": "stream",
     "text": [
      "Writing ./context/generate-inputs.py\n"
     ]
    }
   ],
   "source": [
    "%%writefile ./context/generate-inputs.py\n",
    "import numpy as np\n",
    "import pandas as pd\n",
    "\n",
    "\n",
    "def generate_inputs(np_example: np.ndarray, df: pd.DataFrame):\n",
    "    df_true = pd.DataFrame(\n",
    "        data={\n",
    "            **{f\"column_{i}\": np.arange(0, 1000) for i in range(1, 10)},\n",
    "        },\n",
    "    ).set_index(keys=[\"column_7\", \"column_8\", \"column_9\"])\n",
    "\n",
    "    # compare dataframe unpack\n",
    "    assert df_true.compare(df).shape == (0, 0)\n",
    "\n",
    "    # compare dataframe unpack\n",
    "    np_true = np.array(\n",
    "        [[[1, 2, 3], [4, 5, 6], [7, 8, 9]], [[1, 2, 3], [4, 5, 6], [7, 8, 9]]]\n",
    "    )\n",
    "    assert np.array_equal(np_true, np_example)\n",
    "\n",
    "    return \"OK\""
   ]
  },
  {
   "cell_type": "code",
   "execution_count": 10,
   "id": "88864d39-b9ae-4675-ad3e-3bcadedbd50f",
   "metadata": {},
   "outputs": [
    {
     "name": "stdout",
     "output_type": "stream",
     "text": [
      "> 2023-07-09 15:56:27,883 [warning] Failed to add git metadata, ignore if path is not part of a git repo.: {'path': 'context', 'error': '/User/full_example/context'}\n"
     ]
    },
    {
     "data": {
      "text/plain": [
       "<mlrun.runtimes.kubejob.KubejobRuntime at 0x7fea051aed60>"
      ]
     },
     "execution_count": 10,
     "metadata": {},
     "output_type": "execute_result"
    }
   ],
   "source": [
    "project.set_function(\"./generate-inputs.py\",name='generate-inputs',kind='job',image='mlrun/mlrun',handler='generate_inputs')"
   ]
  },
  {
   "cell_type": "code",
   "execution_count": 11,
   "id": "82f6ead9-d641-43ec-9919-200fada65927",
   "metadata": {},
   "outputs": [],
   "source": [
    "df = outputs_run.outputs[\"df\"]\n",
    "array_np = outputs_run.outputs[\"np_example\"]\n"
   ]
  },
  {
   "cell_type": "code",
   "execution_count": 12,
   "id": "7fef12de-6ada-4589-898c-2d893c0febae",
   "metadata": {},
   "outputs": [
    {
     "name": "stdout",
     "output_type": "stream",
     "text": [
      "> 2023-07-09 15:56:27,931 [info] Storing function: {'name': 'generate-inputs-generate-inputs', 'uid': '448aaf20054a426ebaee2b5dafc7170b', 'db': 'http://mlrun-api:8080'}\n",
      "> 2023-07-09 15:56:28,152 [info] Job is running in the background, pod: generate-inputs-generate-inputs-c72nb\n",
      "> 2023-07-09 15:56:33,444 [info] downloading v3io:///projects/test-pack-gilad/artifacts/generate-outputs-generate-outputs/0/np_example.npy to local temp file\n",
      "> 2023-07-09 15:56:33,605 [info] Run execution finished: {'status': 'completed', 'name': 'generate-inputs-generate-inputs'}\n",
      "final state: completed\n"
     ]
    },
    {
     "data": {
      "text/html": [
       "<style>\n",
       ".dictlist {\n",
       "  background-color: #4EC64B;\n",
       "  text-align: center;\n",
       "  margin: 4px;\n",
       "  border-radius: 3px; padding: 0px 3px 1px 3px; display: inline-block;}\n",
       ".artifact {\n",
       "  cursor: pointer;\n",
       "  background-color: #4EC64B;\n",
       "  text-align: left;\n",
       "  margin: 4px; border-radius: 3px; padding: 0px 3px 1px 3px; display: inline-block;\n",
       "}\n",
       "div.block.hidden {\n",
       "  display: none;\n",
       "}\n",
       ".clickable {\n",
       "  cursor: pointer;\n",
       "}\n",
       ".ellipsis {\n",
       "  display: inline-block;\n",
       "  max-width: 60px;\n",
       "  white-space: nowrap;\n",
       "  overflow: hidden;\n",
       "  text-overflow: ellipsis;\n",
       "}\n",
       ".master-wrapper {\n",
       "  display: flex;\n",
       "  flex-flow: row nowrap;\n",
       "  justify-content: flex-start;\n",
       "  align-items: stretch;\n",
       "}\n",
       ".master-tbl {\n",
       "  flex: 3\n",
       "}\n",
       ".master-wrapper > div {\n",
       "  margin: 4px;\n",
       "  padding: 10px;\n",
       "}\n",
       "iframe.fileview {\n",
       "  border: 0 none;\n",
       "  height: 100%;\n",
       "  width: 100%;\n",
       "  white-space: pre-wrap;\n",
       "}\n",
       ".pane-header-title {\n",
       "  width: 80%;\n",
       "  font-weight: 500;\n",
       "}\n",
       ".pane-header {\n",
       "  line-height: 1;\n",
       "  background-color: #4EC64B;\n",
       "  padding: 3px;\n",
       "}\n",
       ".pane-header .close {\n",
       "  font-size: 20px;\n",
       "  font-weight: 700;\n",
       "  float: right;\n",
       "  margin-top: -5px;\n",
       "}\n",
       ".master-wrapper .right-pane {\n",
       "  border: 1px inset silver;\n",
       "  width: 40%;\n",
       "  min-height: 300px;\n",
       "  flex: 3\n",
       "  min-width: 500px;\n",
       "}\n",
       ".master-wrapper * {\n",
       "  box-sizing: border-box;\n",
       "}\n",
       "</style><script>\n",
       "function copyToClipboard(fld) {\n",
       "    if (document.queryCommandSupported && document.queryCommandSupported('copy')) {\n",
       "        var textarea = document.createElement('textarea');\n",
       "        textarea.textContent = fld.innerHTML;\n",
       "        textarea.style.position = 'fixed';\n",
       "        document.body.appendChild(textarea);\n",
       "        textarea.select();\n",
       "\n",
       "        try {\n",
       "            return document.execCommand('copy'); // Security exception may be thrown by some browsers.\n",
       "        } catch (ex) {\n",
       "\n",
       "        } finally {\n",
       "            document.body.removeChild(textarea);\n",
       "        }\n",
       "    }\n",
       "}\n",
       "function expandPanel(el) {\n",
       "  const panelName = \"#\" + el.getAttribute('paneName');\n",
       "  console.log(el.title);\n",
       "\n",
       "  document.querySelector(panelName + \"-title\").innerHTML = el.title\n",
       "  iframe = document.querySelector(panelName + \"-body\");\n",
       "\n",
       "  const tblcss = `<style> body { font-family: Arial, Helvetica, sans-serif;}\n",
       "    #csv { margin-bottom: 15px; }\n",
       "    #csv table { border-collapse: collapse;}\n",
       "    #csv table td { padding: 4px 8px; border: 1px solid silver;} </style>`;\n",
       "\n",
       "  function csvToHtmlTable(str) {\n",
       "    return '<div id=\"csv\"><table><tr><td>' +  str.replace(/[\\n\\r]+$/g, '').replace(/[\\n\\r]+/g, '</td></tr><tr><td>')\n",
       "      .replace(/,/g, '</td><td>') + '</td></tr></table></div>';\n",
       "  }\n",
       "\n",
       "  function reqListener () {\n",
       "    if (el.title.endsWith(\".csv\")) {\n",
       "      iframe.setAttribute(\"srcdoc\", tblcss + csvToHtmlTable(this.responseText));\n",
       "    } else {\n",
       "      iframe.setAttribute(\"srcdoc\", this.responseText);\n",
       "    }\n",
       "    console.log(this.responseText);\n",
       "  }\n",
       "\n",
       "  const oReq = new XMLHttpRequest();\n",
       "  oReq.addEventListener(\"load\", reqListener);\n",
       "  oReq.open(\"GET\", el.title);\n",
       "  oReq.send();\n",
       "\n",
       "\n",
       "  //iframe.src = el.title;\n",
       "  const resultPane = document.querySelector(panelName + \"-pane\");\n",
       "  if (resultPane.classList.contains(\"hidden\")) {\n",
       "    resultPane.classList.remove(\"hidden\");\n",
       "  }\n",
       "}\n",
       "function closePanel(el) {\n",
       "  const panelName = \"#\" + el.getAttribute('paneName')\n",
       "  const resultPane = document.querySelector(panelName + \"-pane\");\n",
       "  if (!resultPane.classList.contains(\"hidden\")) {\n",
       "    resultPane.classList.add(\"hidden\");\n",
       "  }\n",
       "}\n",
       "\n",
       "</script>\n",
       "<div class=\"master-wrapper\">\n",
       "  <div class=\"block master-tbl\"><div>\n",
       "<style scoped>\n",
       "    .dataframe tbody tr th:only-of-type {\n",
       "        vertical-align: middle;\n",
       "    }\n",
       "\n",
       "    .dataframe tbody tr th {\n",
       "        vertical-align: top;\n",
       "    }\n",
       "\n",
       "    .dataframe thead th {\n",
       "        text-align: right;\n",
       "    }\n",
       "</style>\n",
       "<table border=\"1\" class=\"dataframe\">\n",
       "  <thead>\n",
       "    <tr style=\"text-align: right;\">\n",
       "      <th>project</th>\n",
       "      <th>uid</th>\n",
       "      <th>iter</th>\n",
       "      <th>start</th>\n",
       "      <th>state</th>\n",
       "      <th>name</th>\n",
       "      <th>labels</th>\n",
       "      <th>inputs</th>\n",
       "      <th>parameters</th>\n",
       "      <th>results</th>\n",
       "      <th>artifacts</th>\n",
       "    </tr>\n",
       "  </thead>\n",
       "  <tbody>\n",
       "    <tr>\n",
       "      <td>test-pack-gilad</td>\n",
       "      <td><div title=\"448aaf20054a426ebaee2b5dafc7170b\"><a href=\"https://dashboard.default-tenant.app.dev28.lab.iguazeng.com/mlprojects/test-pack-gilad/jobs/monitor/448aaf20054a426ebaee2b5dafc7170b/overview\" target=\"_blank\" >...afc7170b</a></div></td>\n",
       "      <td>0</td>\n",
       "      <td>Jul 09 15:56:33</td>\n",
       "      <td>completed</td>\n",
       "      <td>generate-inputs-generate-inputs</td>\n",
       "      <td><div class=\"dictlist\">v3io_user=gilad</div><div class=\"dictlist\">kind=job</div><div class=\"dictlist\">owner=gilad</div><div class=\"dictlist\">mlrun/client_version=1.4.0-rc18</div><div class=\"dictlist\">mlrun/client_python_version=3.9.16</div><div class=\"dictlist\">host=generate-inputs-generate-inputs-c72nb</div></td>\n",
       "      <td><div title=\"store://artifacts/test-pack-gilad/generate-outputs-generate-outputs_df:3a82adddbfce404492f9eb8bc83060fc\">df</div><div title=\"store://artifacts/test-pack-gilad/generate-outputs-generate-outputs_np_example:3a82adddbfce404492f9eb8bc83060fc\">np_example</div></td>\n",
       "      <td></td>\n",
       "      <td><div class=\"dictlist\">state=OK</div></td>\n",
       "      <td></td>\n",
       "    </tr>\n",
       "  </tbody>\n",
       "</table>\n",
       "</div></div>\n",
       "  <div id=\"resulte58bb938-pane\" class=\"right-pane block hidden\">\n",
       "    <div class=\"pane-header\">\n",
       "      <span id=\"resulte58bb938-title\" class=\"pane-header-title\">Title</span>\n",
       "      <span onclick=\"closePanel(this)\" paneName=\"resulte58bb938\" class=\"close clickable\">&times;</span>\n",
       "    </div>\n",
       "    <iframe class=\"fileview\" id=\"resulte58bb938-body\"></iframe>\n",
       "  </div>\n",
       "</div>\n"
      ],
      "text/plain": [
       "<IPython.core.display.HTML object>"
      ]
     },
     "metadata": {},
     "output_type": "display_data"
    },
    {
     "name": "stdout",
     "output_type": "stream",
     "text": []
    },
    {
     "data": {
      "text/html": [
       "<b> > to track results use the .show() or .logs() methods  or <a href=\"https://dashboard.default-tenant.app.dev28.lab.iguazeng.com/mlprojects/test-pack-gilad/jobs/monitor/448aaf20054a426ebaee2b5dafc7170b/overview\" target=\"_blank\">click here</a> to open in UI</b>"
      ],
      "text/plain": [
       "<IPython.core.display.HTML object>"
      ]
     },
     "metadata": {},
     "output_type": "display_data"
    },
    {
     "name": "stdout",
     "output_type": "stream",
     "text": [
      "> 2023-07-09 15:56:36,274 [info] Run execution finished: {'status': 'completed', 'name': 'generate-inputs-generate-inputs'}\n"
     ]
    }
   ],
   "source": [
    "inputs_run = project.run_function(\"generate-inputs\",inputs={\"df\":df,\"np_example\":array_np},returns=[\"state\"])"
   ]
  },
  {
   "cell_type": "markdown",
   "id": "4f489576-84ae-45ef-a704-d71ce5b54b27",
   "metadata": {},
   "source": [
    "**Validate Run Result**"
   ]
  },
  {
   "cell_type": "code",
   "execution_count": 13,
   "id": "686e9884-e914-4893-b230-5f5a2a53bd4e",
   "metadata": {},
   "outputs": [],
   "source": [
    "assert inputs_run.outputs[\"state\"] == \"OK\""
   ]
  },
  {
   "cell_type": "markdown",
   "id": "bf0abccf-f6ef-4a04-91ff-f52ed20a7687",
   "metadata": {},
   "source": [
    "## 3. Logging object to MLRun such as: `pd.DataFrame, np.ndarray, string, list` with non default artifact type and file format.\n",
    "\n",
    "Excpected output result - \n",
    "\n",
    "* df_pkl as an artifact artifact type and pickle file\n",
    "* df_csv as an artifact artifact type and a csv file\n",
    "* np_csv as an artifact artifact type and a csv file"
   ]
  },
  {
   "cell_type": "code",
   "execution_count": 14,
   "id": "848a17c7-2e1d-4888-a34b-8dcf0ffef303",
   "metadata": {},
   "outputs": [
    {
     "name": "stdout",
     "output_type": "stream",
     "text": [
      "Writing ./context/generate-outputs-non-default.py\n"
     ]
    }
   ],
   "source": [
    "%%writefile ./context/generate-outputs-non-default.py\n",
    "import numpy as np\n",
    "import pandas as pd\n",
    "from numpy import asarray\n",
    "\n",
    "\n",
    "def generate_outputs():\n",
    "    df_true = pd.DataFrame(\n",
    "        data={\n",
    "            **{f\"column_{i}\": np.arange(0, 1000) for i in range(1, 10)},\n",
    "        },\n",
    "    ).set_index(keys=[\"column_7\", \"column_8\", \"column_9\"])\n",
    "\n",
    "    np_example = asarray([[0, 1, 2, 3, 4, 5, 6, 7, 8, 9]])\n",
    "\n",
    "    df_pkl = df_true\n",
    "    df_csv = df_true\n",
    "    np_csv = np_example\n",
    "    return df_pkl, df_csv, np_csv"
   ]
  },
  {
   "cell_type": "code",
   "execution_count": 15,
   "id": "667fbab3-aa12-495e-9202-ad99a9ada712",
   "metadata": {},
   "outputs": [
    {
     "name": "stdout",
     "output_type": "stream",
     "text": [
      "> 2023-07-09 15:56:36,310 [warning] Failed to add git metadata, ignore if path is not part of a git repo.: {'path': 'context', 'error': '/User/full_example/context'}\n"
     ]
    },
    {
     "data": {
      "text/plain": [
       "<mlrun.runtimes.kubejob.KubejobRuntime at 0x7fea4118d2b0>"
      ]
     },
     "execution_count": 15,
     "metadata": {},
     "output_type": "execute_result"
    }
   ],
   "source": [
    "project.set_function(\"./generate-outputs-non-default.py\",name='generate-outputs-non-default',kind='job',image='mlrun/mlrun',handler='generate_outputs')"
   ]
  },
  {
   "cell_type": "code",
   "execution_count": 16,
   "id": "9a6b99c1-9d2c-4091-a7f4-bf95d9568c43",
   "metadata": {},
   "outputs": [
    {
     "name": "stdout",
     "output_type": "stream",
     "text": [
      "> 2023-07-09 15:56:36,352 [info] Storing function: {'name': 'generate-outputs-non-default-generate-outputs', 'uid': '7e27264e7cad4b80974856ec6959b046', 'db': 'http://mlrun-api:8080'}\n",
      "> 2023-07-09 15:56:36,572 [info] Job is running in the background, pod: generate-outputs-non-default-generate-outputs-42b4p\n",
      "> 2023-07-09 15:56:42,130 [info] Run execution finished: {'status': 'completed', 'name': 'generate-outputs-non-default-generate-outputs'}\n",
      "final state: completed\n"
     ]
    },
    {
     "data": {
      "text/html": [
       "<style>\n",
       ".dictlist {\n",
       "  background-color: #4EC64B;\n",
       "  text-align: center;\n",
       "  margin: 4px;\n",
       "  border-radius: 3px; padding: 0px 3px 1px 3px; display: inline-block;}\n",
       ".artifact {\n",
       "  cursor: pointer;\n",
       "  background-color: #4EC64B;\n",
       "  text-align: left;\n",
       "  margin: 4px; border-radius: 3px; padding: 0px 3px 1px 3px; display: inline-block;\n",
       "}\n",
       "div.block.hidden {\n",
       "  display: none;\n",
       "}\n",
       ".clickable {\n",
       "  cursor: pointer;\n",
       "}\n",
       ".ellipsis {\n",
       "  display: inline-block;\n",
       "  max-width: 60px;\n",
       "  white-space: nowrap;\n",
       "  overflow: hidden;\n",
       "  text-overflow: ellipsis;\n",
       "}\n",
       ".master-wrapper {\n",
       "  display: flex;\n",
       "  flex-flow: row nowrap;\n",
       "  justify-content: flex-start;\n",
       "  align-items: stretch;\n",
       "}\n",
       ".master-tbl {\n",
       "  flex: 3\n",
       "}\n",
       ".master-wrapper > div {\n",
       "  margin: 4px;\n",
       "  padding: 10px;\n",
       "}\n",
       "iframe.fileview {\n",
       "  border: 0 none;\n",
       "  height: 100%;\n",
       "  width: 100%;\n",
       "  white-space: pre-wrap;\n",
       "}\n",
       ".pane-header-title {\n",
       "  width: 80%;\n",
       "  font-weight: 500;\n",
       "}\n",
       ".pane-header {\n",
       "  line-height: 1;\n",
       "  background-color: #4EC64B;\n",
       "  padding: 3px;\n",
       "}\n",
       ".pane-header .close {\n",
       "  font-size: 20px;\n",
       "  font-weight: 700;\n",
       "  float: right;\n",
       "  margin-top: -5px;\n",
       "}\n",
       ".master-wrapper .right-pane {\n",
       "  border: 1px inset silver;\n",
       "  width: 40%;\n",
       "  min-height: 300px;\n",
       "  flex: 3\n",
       "  min-width: 500px;\n",
       "}\n",
       ".master-wrapper * {\n",
       "  box-sizing: border-box;\n",
       "}\n",
       "</style><script>\n",
       "function copyToClipboard(fld) {\n",
       "    if (document.queryCommandSupported && document.queryCommandSupported('copy')) {\n",
       "        var textarea = document.createElement('textarea');\n",
       "        textarea.textContent = fld.innerHTML;\n",
       "        textarea.style.position = 'fixed';\n",
       "        document.body.appendChild(textarea);\n",
       "        textarea.select();\n",
       "\n",
       "        try {\n",
       "            return document.execCommand('copy'); // Security exception may be thrown by some browsers.\n",
       "        } catch (ex) {\n",
       "\n",
       "        } finally {\n",
       "            document.body.removeChild(textarea);\n",
       "        }\n",
       "    }\n",
       "}\n",
       "function expandPanel(el) {\n",
       "  const panelName = \"#\" + el.getAttribute('paneName');\n",
       "  console.log(el.title);\n",
       "\n",
       "  document.querySelector(panelName + \"-title\").innerHTML = el.title\n",
       "  iframe = document.querySelector(panelName + \"-body\");\n",
       "\n",
       "  const tblcss = `<style> body { font-family: Arial, Helvetica, sans-serif;}\n",
       "    #csv { margin-bottom: 15px; }\n",
       "    #csv table { border-collapse: collapse;}\n",
       "    #csv table td { padding: 4px 8px; border: 1px solid silver;} </style>`;\n",
       "\n",
       "  function csvToHtmlTable(str) {\n",
       "    return '<div id=\"csv\"><table><tr><td>' +  str.replace(/[\\n\\r]+$/g, '').replace(/[\\n\\r]+/g, '</td></tr><tr><td>')\n",
       "      .replace(/,/g, '</td><td>') + '</td></tr></table></div>';\n",
       "  }\n",
       "\n",
       "  function reqListener () {\n",
       "    if (el.title.endsWith(\".csv\")) {\n",
       "      iframe.setAttribute(\"srcdoc\", tblcss + csvToHtmlTable(this.responseText));\n",
       "    } else {\n",
       "      iframe.setAttribute(\"srcdoc\", this.responseText);\n",
       "    }\n",
       "    console.log(this.responseText);\n",
       "  }\n",
       "\n",
       "  const oReq = new XMLHttpRequest();\n",
       "  oReq.addEventListener(\"load\", reqListener);\n",
       "  oReq.open(\"GET\", el.title);\n",
       "  oReq.send();\n",
       "\n",
       "\n",
       "  //iframe.src = el.title;\n",
       "  const resultPane = document.querySelector(panelName + \"-pane\");\n",
       "  if (resultPane.classList.contains(\"hidden\")) {\n",
       "    resultPane.classList.remove(\"hidden\");\n",
       "  }\n",
       "}\n",
       "function closePanel(el) {\n",
       "  const panelName = \"#\" + el.getAttribute('paneName')\n",
       "  const resultPane = document.querySelector(panelName + \"-pane\");\n",
       "  if (!resultPane.classList.contains(\"hidden\")) {\n",
       "    resultPane.classList.add(\"hidden\");\n",
       "  }\n",
       "}\n",
       "\n",
       "</script>\n",
       "<div class=\"master-wrapper\">\n",
       "  <div class=\"block master-tbl\"><div>\n",
       "<style scoped>\n",
       "    .dataframe tbody tr th:only-of-type {\n",
       "        vertical-align: middle;\n",
       "    }\n",
       "\n",
       "    .dataframe tbody tr th {\n",
       "        vertical-align: top;\n",
       "    }\n",
       "\n",
       "    .dataframe thead th {\n",
       "        text-align: right;\n",
       "    }\n",
       "</style>\n",
       "<table border=\"1\" class=\"dataframe\">\n",
       "  <thead>\n",
       "    <tr style=\"text-align: right;\">\n",
       "      <th>project</th>\n",
       "      <th>uid</th>\n",
       "      <th>iter</th>\n",
       "      <th>start</th>\n",
       "      <th>state</th>\n",
       "      <th>name</th>\n",
       "      <th>labels</th>\n",
       "      <th>inputs</th>\n",
       "      <th>parameters</th>\n",
       "      <th>results</th>\n",
       "      <th>artifacts</th>\n",
       "    </tr>\n",
       "  </thead>\n",
       "  <tbody>\n",
       "    <tr>\n",
       "      <td>test-pack-gilad</td>\n",
       "      <td><div title=\"7e27264e7cad4b80974856ec6959b046\"><a href=\"https://dashboard.default-tenant.app.dev28.lab.iguazeng.com/mlprojects/test-pack-gilad/jobs/monitor/7e27264e7cad4b80974856ec6959b046/overview\" target=\"_blank\" >...6959b046</a></div></td>\n",
       "      <td>0</td>\n",
       "      <td>Jul 09 15:56:41</td>\n",
       "      <td>completed</td>\n",
       "      <td>generate-outputs-non-default-generate-outputs</td>\n",
       "      <td><div class=\"dictlist\">v3io_user=gilad</div><div class=\"dictlist\">kind=job</div><div class=\"dictlist\">owner=gilad</div><div class=\"dictlist\">mlrun/client_version=1.4.0-rc18</div><div class=\"dictlist\">mlrun/client_python_version=3.9.16</div><div class=\"dictlist\">host=generate-outputs-non-default-generate-outputs-42b4p</div></td>\n",
       "      <td></td>\n",
       "      <td></td>\n",
       "      <td></td>\n",
       "      <td><div title=\"v3io:///projects/test-pack-gilad/artifacts/generate-outputs-non-default-generate-outputs/0/df_pkl.pkl\">df_pkl</div><div class=\"artifact\" onclick=\"expandPanel(this)\" paneName=\"resultab20093f\" title=\"files/v3io/projects/test-pack-gilad/artifacts/generate-outputs-non-default-generate-outputs/0/df_csv.csv\">df_csv</div><div class=\"artifact\" onclick=\"expandPanel(this)\" paneName=\"resultab20093f\" title=\"files/v3io/projects/test-pack-gilad/artifacts/generate-outputs-non-default-generate-outputs/0/np_csv.csv\">np_csv</div></td>\n",
       "    </tr>\n",
       "  </tbody>\n",
       "</table>\n",
       "</div></div>\n",
       "  <div id=\"resultab20093f-pane\" class=\"right-pane block hidden\">\n",
       "    <div class=\"pane-header\">\n",
       "      <span id=\"resultab20093f-title\" class=\"pane-header-title\">Title</span>\n",
       "      <span onclick=\"closePanel(this)\" paneName=\"resultab20093f\" class=\"close clickable\">&times;</span>\n",
       "    </div>\n",
       "    <iframe class=\"fileview\" id=\"resultab20093f-body\"></iframe>\n",
       "  </div>\n",
       "</div>\n"
      ],
      "text/plain": [
       "<IPython.core.display.HTML object>"
      ]
     },
     "metadata": {},
     "output_type": "display_data"
    },
    {
     "name": "stdout",
     "output_type": "stream",
     "text": []
    },
    {
     "data": {
      "text/html": [
       "<b> > to track results use the .show() or .logs() methods  or <a href=\"https://dashboard.default-tenant.app.dev28.lab.iguazeng.com/mlprojects/test-pack-gilad/jobs/monitor/7e27264e7cad4b80974856ec6959b046/overview\" target=\"_blank\">click here</a> to open in UI</b>"
      ],
      "text/plain": [
       "<IPython.core.display.HTML object>"
      ]
     },
     "metadata": {},
     "output_type": "display_data"
    },
    {
     "name": "stdout",
     "output_type": "stream",
     "text": [
      "> 2023-07-09 15:56:44,720 [info] Run execution finished: {'status': 'completed', 'name': 'generate-outputs-non-default-generate-outputs'}\n"
     ]
    }
   ],
   "source": [
    "non_defualt_run = project.run_function('generate-outputs-non-default',returns=[\"df_pkl:object\",\n",
    "                                                                               {\"key\":\"df_csv\",\"artifact_type\":\"file\",\"file_format\":\"csv\"},\n",
    "                                                                               {\"key\":\"np_csv\",\"file_format\":\"csv\"}])"
   ]
  },
  {
   "cell_type": "markdown",
   "id": "4c764e6e-574e-4f06-bf15-0c71048555c5",
   "metadata": {},
   "source": [
    "**Validate Run outputs**"
   ]
  },
  {
   "cell_type": "code",
   "execution_count": 17,
   "id": "25f9bb27-8803-4ab5-919c-9f135afc05ce",
   "metadata": {},
   "outputs": [],
   "source": [
    "df_pkl_non_defualt_run = project.get_store_resource(non_defualt_run.outputs[\"df_pkl\"])\n",
    "assert df_pkl_non_defualt_run.kind == 'artifact'\n",
    "assert df_pkl_non_defualt_run.target_path.endswith(\"pkl\")"
   ]
  },
  {
   "cell_type": "code",
   "execution_count": 18,
   "id": "bf82fc1a-996c-44ef-a9b9-cd5104a89e4e",
   "metadata": {},
   "outputs": [],
   "source": [
    "df_csv_non_defualt_run = project.get_store_resource(non_defualt_run.outputs[\"df_csv\"])\n",
    "assert df_csv_non_defualt_run.kind == 'artifact'\n",
    "assert df_csv_non_defualt_run.target_path.endswith(\"csv\")"
   ]
  },
  {
   "cell_type": "code",
   "execution_count": 19,
   "id": "934e7ae2-7a04-429c-af76-38b65cf2a13b",
   "metadata": {},
   "outputs": [],
   "source": [
    "np_csv_non_defualt_run = project.get_store_resource(non_defualt_run.outputs[\"np_csv\"])\n",
    "assert np_csv_non_defualt_run.kind == 'artifact'\n",
    "assert np_csv_non_defualt_run.target_path.endswith(\"csv\")"
   ]
  },
  {
   "cell_type": "markdown",
   "id": "a07d8f3f-9d3b-496c-b0fb-34802dd758c6",
   "metadata": {},
   "source": [
    "## 4. Unpack outputs from step 3 and validate the expcted values are matched to the original \n",
    "\n",
    "Excpted result -\n",
    "* run without assertion errors."
   ]
  },
  {
   "cell_type": "code",
   "execution_count": 20,
   "id": "773f15cd-0b21-4347-bdf4-bda2d481d72f",
   "metadata": {},
   "outputs": [
    {
     "name": "stdout",
     "output_type": "stream",
     "text": [
      "Writing ./context/generate-inputs-non-defaults.py\n"
     ]
    }
   ],
   "source": [
    "%%writefile ./context/generate-inputs-non-defaults.py\n",
    "import numpy as np\n",
    "import pandas as pd\n",
    "from numpy import asarray\n",
    "\n",
    "\n",
    "def generate_inputs(df_pkl: pd.DataFrame, df_csv: pd.DataFrame, np_csv: np.ndarray):\n",
    "    df_true = pd.DataFrame(\n",
    "        data={\n",
    "            **{f\"column_{i}\": np.arange(0, 1000) for i in range(1, 10)},\n",
    "        },\n",
    "    ).set_index(keys=[\"column_7\", \"column_8\", \"column_9\"])\n",
    "    # compare dataframe unpack\n",
    "    assert df_true.compare(df_pkl).shape == (0, 0)\n",
    "    assert df_true.compare(df_csv).shape == (0, 0)\n",
    "    # compare dataframe unpack\n",
    "    np_true = asarray([0, 1, 2, 3, 4, 5, 6, 7, 8, 9])\n",
    "\n",
    "    assert np.array_equal(np_true, np_csv)\n",
    "\n",
    "    return \"OK\"\n"
   ]
  },
  {
   "cell_type": "code",
   "execution_count": 21,
   "id": "217b13be-38a9-4640-aec0-f54c4688aa52",
   "metadata": {},
   "outputs": [],
   "source": [
    "df_pkl = non_defualt_run.outputs[\"df_pkl\"]\n",
    "df_csv = non_defualt_run.outputs[\"df_csv\"]\n",
    "np_csv = non_defualt_run.outputs[\"np_csv\"]"
   ]
  },
  {
   "cell_type": "code",
   "execution_count": 22,
   "id": "9fed2eb5-5c44-41a9-b727-d3e95a3ee54d",
   "metadata": {},
   "outputs": [
    {
     "name": "stdout",
     "output_type": "stream",
     "text": [
      "> 2023-07-09 15:56:44,862 [warning] Failed to add git metadata, ignore if path is not part of a git repo.: {'path': 'context', 'error': '/User/full_example/context'}\n"
     ]
    },
    {
     "data": {
      "text/plain": [
       "<mlrun.runtimes.kubejob.KubejobRuntime at 0x7fea402c57c0>"
      ]
     },
     "execution_count": 22,
     "metadata": {},
     "output_type": "execute_result"
    }
   ],
   "source": [
    "project.set_function(\"./generate-inputs-non-defaults.py\",name='generate-inputs-non-defaults',kind='job',image='mlrun/mlrun',handler='generate_inputs')"
   ]
  },
  {
   "cell_type": "code",
   "execution_count": 23,
   "id": "43691df0-1035-4b5c-a2b8-473c31b9bd35",
   "metadata": {},
   "outputs": [
    {
     "name": "stdout",
     "output_type": "stream",
     "text": [
      "> 2023-07-09 15:56:44,914 [info] Storing function: {'name': 'generate-inputs-non-defaults-generate-inputs', 'uid': '10181381db3f4d6d95ba9b9cb6efcf10', 'db': 'http://mlrun-api:8080'}\n",
      "> 2023-07-09 15:56:45,148 [info] Job is running in the background, pod: generate-inputs-non-defaults-generate-inputs-rbp5z\n",
      "> 2023-07-09 15:56:50,540 [info] downloading v3io:///projects/test-pack-gilad/artifacts/generate-outputs-non-default-generate-outputs/0/df_pkl.pkl to local temp file\n",
      "> 2023-07-09 15:56:50,573 [info] downloading v3io:///projects/test-pack-gilad/artifacts/generate-outputs-non-default-generate-outputs/0/df_csv.csv to local temp file\n",
      "> 2023-07-09 15:56:50,610 [info] downloading v3io:///projects/test-pack-gilad/artifacts/generate-outputs-non-default-generate-outputs/0/np_csv.csv to local temp file\n",
      "> 2023-07-09 15:56:50,720 [info] Run execution finished: {'status': 'completed', 'name': 'generate-inputs-non-defaults-generate-inputs'}\n",
      "final state: completed\n"
     ]
    },
    {
     "data": {
      "text/html": [
       "<style>\n",
       ".dictlist {\n",
       "  background-color: #4EC64B;\n",
       "  text-align: center;\n",
       "  margin: 4px;\n",
       "  border-radius: 3px; padding: 0px 3px 1px 3px; display: inline-block;}\n",
       ".artifact {\n",
       "  cursor: pointer;\n",
       "  background-color: #4EC64B;\n",
       "  text-align: left;\n",
       "  margin: 4px; border-radius: 3px; padding: 0px 3px 1px 3px; display: inline-block;\n",
       "}\n",
       "div.block.hidden {\n",
       "  display: none;\n",
       "}\n",
       ".clickable {\n",
       "  cursor: pointer;\n",
       "}\n",
       ".ellipsis {\n",
       "  display: inline-block;\n",
       "  max-width: 60px;\n",
       "  white-space: nowrap;\n",
       "  overflow: hidden;\n",
       "  text-overflow: ellipsis;\n",
       "}\n",
       ".master-wrapper {\n",
       "  display: flex;\n",
       "  flex-flow: row nowrap;\n",
       "  justify-content: flex-start;\n",
       "  align-items: stretch;\n",
       "}\n",
       ".master-tbl {\n",
       "  flex: 3\n",
       "}\n",
       ".master-wrapper > div {\n",
       "  margin: 4px;\n",
       "  padding: 10px;\n",
       "}\n",
       "iframe.fileview {\n",
       "  border: 0 none;\n",
       "  height: 100%;\n",
       "  width: 100%;\n",
       "  white-space: pre-wrap;\n",
       "}\n",
       ".pane-header-title {\n",
       "  width: 80%;\n",
       "  font-weight: 500;\n",
       "}\n",
       ".pane-header {\n",
       "  line-height: 1;\n",
       "  background-color: #4EC64B;\n",
       "  padding: 3px;\n",
       "}\n",
       ".pane-header .close {\n",
       "  font-size: 20px;\n",
       "  font-weight: 700;\n",
       "  float: right;\n",
       "  margin-top: -5px;\n",
       "}\n",
       ".master-wrapper .right-pane {\n",
       "  border: 1px inset silver;\n",
       "  width: 40%;\n",
       "  min-height: 300px;\n",
       "  flex: 3\n",
       "  min-width: 500px;\n",
       "}\n",
       ".master-wrapper * {\n",
       "  box-sizing: border-box;\n",
       "}\n",
       "</style><script>\n",
       "function copyToClipboard(fld) {\n",
       "    if (document.queryCommandSupported && document.queryCommandSupported('copy')) {\n",
       "        var textarea = document.createElement('textarea');\n",
       "        textarea.textContent = fld.innerHTML;\n",
       "        textarea.style.position = 'fixed';\n",
       "        document.body.appendChild(textarea);\n",
       "        textarea.select();\n",
       "\n",
       "        try {\n",
       "            return document.execCommand('copy'); // Security exception may be thrown by some browsers.\n",
       "        } catch (ex) {\n",
       "\n",
       "        } finally {\n",
       "            document.body.removeChild(textarea);\n",
       "        }\n",
       "    }\n",
       "}\n",
       "function expandPanel(el) {\n",
       "  const panelName = \"#\" + el.getAttribute('paneName');\n",
       "  console.log(el.title);\n",
       "\n",
       "  document.querySelector(panelName + \"-title\").innerHTML = el.title\n",
       "  iframe = document.querySelector(panelName + \"-body\");\n",
       "\n",
       "  const tblcss = `<style> body { font-family: Arial, Helvetica, sans-serif;}\n",
       "    #csv { margin-bottom: 15px; }\n",
       "    #csv table { border-collapse: collapse;}\n",
       "    #csv table td { padding: 4px 8px; border: 1px solid silver;} </style>`;\n",
       "\n",
       "  function csvToHtmlTable(str) {\n",
       "    return '<div id=\"csv\"><table><tr><td>' +  str.replace(/[\\n\\r]+$/g, '').replace(/[\\n\\r]+/g, '</td></tr><tr><td>')\n",
       "      .replace(/,/g, '</td><td>') + '</td></tr></table></div>';\n",
       "  }\n",
       "\n",
       "  function reqListener () {\n",
       "    if (el.title.endsWith(\".csv\")) {\n",
       "      iframe.setAttribute(\"srcdoc\", tblcss + csvToHtmlTable(this.responseText));\n",
       "    } else {\n",
       "      iframe.setAttribute(\"srcdoc\", this.responseText);\n",
       "    }\n",
       "    console.log(this.responseText);\n",
       "  }\n",
       "\n",
       "  const oReq = new XMLHttpRequest();\n",
       "  oReq.addEventListener(\"load\", reqListener);\n",
       "  oReq.open(\"GET\", el.title);\n",
       "  oReq.send();\n",
       "\n",
       "\n",
       "  //iframe.src = el.title;\n",
       "  const resultPane = document.querySelector(panelName + \"-pane\");\n",
       "  if (resultPane.classList.contains(\"hidden\")) {\n",
       "    resultPane.classList.remove(\"hidden\");\n",
       "  }\n",
       "}\n",
       "function closePanel(el) {\n",
       "  const panelName = \"#\" + el.getAttribute('paneName')\n",
       "  const resultPane = document.querySelector(panelName + \"-pane\");\n",
       "  if (!resultPane.classList.contains(\"hidden\")) {\n",
       "    resultPane.classList.add(\"hidden\");\n",
       "  }\n",
       "}\n",
       "\n",
       "</script>\n",
       "<div class=\"master-wrapper\">\n",
       "  <div class=\"block master-tbl\"><div>\n",
       "<style scoped>\n",
       "    .dataframe tbody tr th:only-of-type {\n",
       "        vertical-align: middle;\n",
       "    }\n",
       "\n",
       "    .dataframe tbody tr th {\n",
       "        vertical-align: top;\n",
       "    }\n",
       "\n",
       "    .dataframe thead th {\n",
       "        text-align: right;\n",
       "    }\n",
       "</style>\n",
       "<table border=\"1\" class=\"dataframe\">\n",
       "  <thead>\n",
       "    <tr style=\"text-align: right;\">\n",
       "      <th>project</th>\n",
       "      <th>uid</th>\n",
       "      <th>iter</th>\n",
       "      <th>start</th>\n",
       "      <th>state</th>\n",
       "      <th>name</th>\n",
       "      <th>labels</th>\n",
       "      <th>inputs</th>\n",
       "      <th>parameters</th>\n",
       "      <th>results</th>\n",
       "      <th>artifacts</th>\n",
       "    </tr>\n",
       "  </thead>\n",
       "  <tbody>\n",
       "    <tr>\n",
       "      <td>test-pack-gilad</td>\n",
       "      <td><div title=\"10181381db3f4d6d95ba9b9cb6efcf10\"><a href=\"https://dashboard.default-tenant.app.dev28.lab.iguazeng.com/mlprojects/test-pack-gilad/jobs/monitor/10181381db3f4d6d95ba9b9cb6efcf10/overview\" target=\"_blank\" >...b6efcf10</a></div></td>\n",
       "      <td>0</td>\n",
       "      <td>Jul 09 15:56:50</td>\n",
       "      <td>completed</td>\n",
       "      <td>generate-inputs-non-defaults-generate-inputs</td>\n",
       "      <td><div class=\"dictlist\">v3io_user=gilad</div><div class=\"dictlist\">kind=job</div><div class=\"dictlist\">owner=gilad</div><div class=\"dictlist\">mlrun/client_version=1.4.0-rc18</div><div class=\"dictlist\">mlrun/client_python_version=3.9.16</div><div class=\"dictlist\">host=generate-inputs-non-defaults-generate-inputs-rbp5z</div></td>\n",
       "      <td><div title=\"store://artifacts/test-pack-gilad/generate-outputs-non-default-generate-outputs_df_pkl:7e27264e7cad4b80974856ec6959b046\">df_pkl</div><div title=\"store://artifacts/test-pack-gilad/generate-outputs-non-default-generate-outputs_df_csv:7e27264e7cad4b80974856ec6959b046\">df_csv</div><div title=\"store://artifacts/test-pack-gilad/generate-outputs-non-default-generate-outputs_np_csv:7e27264e7cad4b80974856ec6959b046\">np_csv</div></td>\n",
       "      <td></td>\n",
       "      <td><div class=\"dictlist\">state=OK</div></td>\n",
       "      <td></td>\n",
       "    </tr>\n",
       "  </tbody>\n",
       "</table>\n",
       "</div></div>\n",
       "  <div id=\"result2e8a7e11-pane\" class=\"right-pane block hidden\">\n",
       "    <div class=\"pane-header\">\n",
       "      <span id=\"result2e8a7e11-title\" class=\"pane-header-title\">Title</span>\n",
       "      <span onclick=\"closePanel(this)\" paneName=\"result2e8a7e11\" class=\"close clickable\">&times;</span>\n",
       "    </div>\n",
       "    <iframe class=\"fileview\" id=\"result2e8a7e11-body\"></iframe>\n",
       "  </div>\n",
       "</div>\n"
      ],
      "text/plain": [
       "<IPython.core.display.HTML object>"
      ]
     },
     "metadata": {},
     "output_type": "display_data"
    },
    {
     "name": "stdout",
     "output_type": "stream",
     "text": []
    },
    {
     "data": {
      "text/html": [
       "<b> > to track results use the .show() or .logs() methods  or <a href=\"https://dashboard.default-tenant.app.dev28.lab.iguazeng.com/mlprojects/test-pack-gilad/jobs/monitor/10181381db3f4d6d95ba9b9cb6efcf10/overview\" target=\"_blank\">click here</a> to open in UI</b>"
      ],
      "text/plain": [
       "<IPython.core.display.HTML object>"
      ]
     },
     "metadata": {},
     "output_type": "display_data"
    },
    {
     "name": "stdout",
     "output_type": "stream",
     "text": [
      "> 2023-07-09 15:56:54,274 [info] Run execution finished: {'status': 'completed', 'name': 'generate-inputs-non-defaults-generate-inputs'}\n"
     ]
    }
   ],
   "source": [
    "inputs_run_non_defualt = project.run_function(\"generate-inputs-non-defaults\",inputs={\"df_pkl\":df_pkl,\"df_csv\":df_csv,\"np_csv\":np_csv},returns=[\"state\"])"
   ]
  },
  {
   "cell_type": "markdown",
   "id": "0fe5d194-9782-453e-ac50-e24c4d4547a4",
   "metadata": {
    "tags": []
   },
   "source": [
    "## 5. Pack Custom packager that pack a zip file path to a zip file\n",
    "\n",
    "Expcted result -\n",
    "* to pack a string as an artifact type artifact and as a zip file"
   ]
  },
  {
   "cell_type": "code",
   "execution_count": 24,
   "id": "410d8332-a510-48a7-b838-3e6034d0f3b1",
   "metadata": {},
   "outputs": [],
   "source": [
    "os.makedirs('./custom_pack/')"
   ]
  },
  {
   "cell_type": "markdown",
   "id": "8c0d5349-02de-4ba6-8853-b54d2986285b",
   "metadata": {},
   "source": [
    "Writing custome object file"
   ]
  },
  {
   "cell_type": "code",
   "execution_count": 25,
   "id": "f7e8253d-f11c-4e92-a205-69e8daa22186",
   "metadata": {},
   "outputs": [
    {
     "name": "stdout",
     "output_type": "stream",
     "text": [
      "Writing ./custom_pack/custom.py\n"
     ]
    }
   ],
   "source": [
    "%%writefile ./custom_pack/custom.py\n",
    "import os\n",
    "import tempfile\n",
    "import pathlib\n",
    "from typing import Tuple\n",
    "\n",
    "from mlrun import ArtifactType\n",
    "from mlrun.artifacts import Artifact\n",
    "from mlrun.datastore import DataItem\n",
    "from mlrun.errors import MLRunInvalidArgumentError\n",
    "from mlrun.package import DefaultPackager\n",
    "from mlrun.package.utils import DEFAULT_ARCHIVE_FORMAT, ArchiveSupportedFormat\n",
    "\n",
    "\n",
    "class StringPackager(DefaultPackager):\n",
    "    \"\"\"\n",
    "    ``builtins.str`` packager.\n",
    "    \"\"\"\n",
    "\n",
    "    PACKABLE_OBJECT_TYPE = str\n",
    "    DEFAULT_PACKING_ARTIFACT_TYPE = ArtifactType.FILE\n",
    "    DEFAULT_UNPACKING_ARTIFACT_TYPE = ArtifactType.PATH\n",
    "\n",
    "    def pack_file(\n",
    "        self, obj: str, key: str, archive_format: str = DEFAULT_ARCHIVE_FORMAT\n",
    "    ) -> Tuple[Artifact, dict]:\n",
    "        \"\"\"\n",
    "        Pack a zip value content (pack the file or directory in that path).\n",
    "\n",
    "        :param obj:            The zip object to pack.\n",
    "        :param key:            The key to use for the artifact.\n",
    "        :param archive_format: The archive format to use in case the path is of a directory. Default is zip.\n",
    "\n",
    "        :return: The packed artifact and instructions.\n",
    "        \"\"\"\n",
    "        # Proceed by path type (file or directory):\n",
    "        if os.path.isfile(obj):\n",
    "            # Create the artifact:\n",
    "            artifact = Artifact(key=key, src_path=os.path.abspath(obj))\n",
    "            instructions = {\"archive_format\": \"zip\", \"is_directory\": True}\n",
    "        else:\n",
    "            raise MLRunInvalidArgumentError(\n",
    "                f\"The given path is not a file nor a directory: '{obj}'\"\n",
    "            )\n",
    "\n",
    "        return artifact, instructions\n",
    "\n",
    "    def unpack_file(\n",
    "        self, data_item: DataItem, is_directory: bool = False, archive_format: str = None\n",
    "    ) -> str:\n",
    "        \"\"\"\n",
    "        Unpack a data item representing a path string. If the path is of a file, the file is downloaded to a local\n",
    "        temporary directory and its path is returned. If the path is of a directory, the archive is extracted and the\n",
    "        directory path extracted is returned.\n",
    "\n",
    "        :param data_item:      The data item to unpack.\n",
    "        :param is_directory:   Whether the path should be treated as a file or a directory. Files (even archives like\n",
    "                               zip) won't be extracted.\n",
    "        :param archive_format: The archive format to use in case the path is of a directory. Default is None - will be\n",
    "                               read by the archive file extension.\n",
    "\n",
    "        :return: The unpacked string.\n",
    "        \"\"\"\n",
    "        # Get the file to a local temporary directory:\n",
    "        path = data_item.local()\n",
    "\n",
    "        # Mark the downloaded file for future clear:\n",
    "        self.add_future_clearing_path(path=path)\n",
    "\n",
    "        # If it's not a directory, return the file path. Otherwise, it should be extracted according to the archive\n",
    "        # format:\n",
    "        if not is_directory:\n",
    "            return path\n",
    "\n",
    "        # Get the archive format by the file extension:\n",
    "        if archive_format is None:\n",
    "            archive_format = ArchiveSupportedFormat.match_format(path=path)\n",
    "        if archive_format is None:\n",
    "            raise MLRunInvalidArgumentError(\n",
    "                f\"Archive format of {data_item.key} ('{''.join(pathlib.Path(path).suffixes)}') is not supported. \"\n",
    "                f\"Supported formats are: {' '.join(ArchiveSupportedFormat.get_all_formats())}\"\n",
    "            )\n",
    "\n",
    "        # Extract the archive:\n",
    "        archiver = ArchiveSupportedFormat.get_format_handler(fmt=archive_format)\n",
    "        directory_path = archiver.extract_archive(\n",
    "            archive_path=path, output_path=os.path.dirname(path)\n",
    "        )\n",
    "\n",
    "        # Mark the extracted content for future clear:\n",
    "        self.add_future_clearing_path(path=directory_path)\n",
    "\n",
    "        # Return the extracted directory path:\n",
    "        return directory_path"
   ]
  },
  {
   "cell_type": "code",
   "execution_count": 26,
   "id": "5a5d0717-7978-4e1d-8ac0-ae78c300e904",
   "metadata": {},
   "outputs": [
    {
     "name": "stdout",
     "output_type": "stream",
     "text": [
      "Writing ./custom_pack/test-custom.py\n"
     ]
    }
   ],
   "source": [
    "%%writefile ./custom_pack/test-custom.py\n",
    "import os\n",
    "import shutil\n",
    "import time\n",
    "\n",
    "from custom import StringPackager\n",
    "\n",
    "\n",
    "def func_custom():\n",
    "    os.makedirs(\"./files/\")\n",
    "    with open(\"./files/test_1.txt\", \"w\") as file:\n",
    "        file.write(\"file1\")\n",
    "        file.close()\n",
    "\n",
    "    with open(\"./files/test_2.txt\", \"w\") as file:\n",
    "        file.write(\"file2\")\n",
    "        file.close()\n",
    "\n",
    "    with open(\"./files/test_3.txt\", \"w\") as file:\n",
    "        file.write(\"file3\")\n",
    "        file.close()\n",
    "\n",
    "    shutil.make_archive(\"test\", \"zip\", \"./files/\")\n",
    "    return \"./test.zip\""
   ]
  },
  {
   "cell_type": "code",
   "execution_count": 27,
   "id": "1dd47cdc-d1e5-4ea4-81e6-9b450f5e2da2",
   "metadata": {},
   "outputs": [
    {
     "name": "stdout",
     "output_type": "stream",
     "text": [
      "Writing ./custom_pack/test-custom-unpack.py\n"
     ]
    }
   ],
   "source": [
    "%%writefile ./custom_pack/test-custom-unpack.py\n",
    "import os\n",
    "import shutil\n",
    "import time\n",
    "\n",
    "from custom import StringPackager\n",
    "\n",
    "from mlrun import ArtifactType\n",
    "\n",
    "\n",
    "def func_custom(zip_file: str):\n",
    "    print(zip_file)\n",
    "    with open(f\"{zip_file}/test_1.txt\", \"r\") as file:\n",
    "        read = file.read()\n",
    "        assert read == \"file1\"\n",
    "        file.close()\n",
    "\n",
    "    with open(f\"{zip_file}/test_2.txt\", \"r\") as file:\n",
    "        read = file.read()\n",
    "        assert read == \"file2\"\n",
    "        file.close()\n",
    "\n",
    "    with open(f\"{zip_file}/test_3.txt\", \"r\") as file:\n",
    "        read = file.read()\n",
    "        assert read == \"file3\"\n",
    "        file.close()\n",
    "\n",
    "    return \"Completed\""
   ]
  },
  {
   "cell_type": "code",
   "execution_count": 28,
   "id": "3b71fe3c-9e89-48e6-90d2-ebd584af0484",
   "metadata": {},
   "outputs": [],
   "source": [
    "project.add_custom_packager(packager=\"custom.StringPackager\",is_mandatory=True)"
   ]
  },
  {
   "cell_type": "code",
   "execution_count": 29,
   "id": "a3ef896d-10cb-4afd-91ad-a322302bbdba",
   "metadata": {
    "tags": []
   },
   "outputs": [
    {
     "data": {
      "text/plain": [
       "'/User/full_example/test.zip'"
      ]
     },
     "execution_count": 29,
     "metadata": {},
     "output_type": "execute_result"
    }
   ],
   "source": [
    "shutil.make_archive('test','zip','./custom_pack/')"
   ]
  },
  {
   "cell_type": "code",
   "execution_count": 30,
   "id": "06aaa567-06a6-4957-8e48-c779125e065b",
   "metadata": {},
   "outputs": [],
   "source": [
    "source_art = project.log_artifact(\"source-zip\",local_path='./test.zip')"
   ]
  },
  {
   "cell_type": "code",
   "execution_count": 31,
   "id": "593079a7-ae14-4e95-bce4-26c0e55388dc",
   "metadata": {},
   "outputs": [
    {
     "name": "stdout",
     "output_type": "stream",
     "text": [
      "> 2023-07-09 15:56:54,451 [warning] Failed to add git metadata, ignore if path is not part of a git repo.: {'path': './context', 'error': '/User/full_example/context'}\n",
      "> 2023-07-09 15:56:54,457 [warning] Failed to add git metadata, ignore if path is not part of a git repo.: {'path': 'context', 'error': '/User/full_example/context'}\n",
      "> 2023-07-09 15:56:54,471 [warning] Failed to add git metadata, ignore if path is not part of a git repo.: {'path': 'context', 'error': '/User/full_example/context'}\n",
      "> 2023-07-09 15:56:54,484 [warning] Failed to add git metadata, ignore if path is not part of a git repo.: {'path': 'context', 'error': '/User/full_example/context'}\n",
      "> 2023-07-09 15:56:54,497 [warning] Failed to add git metadata, ignore if path is not part of a git repo.: {'path': 'context', 'error': '/User/full_example/context'}\n"
     ]
    }
   ],
   "source": [
    "project.set_source(source_art.target_path,pull_at_runtime=True)"
   ]
  },
  {
   "cell_type": "code",
   "execution_count": 32,
   "id": "80729f45-2746-4d54-beca-e425db27a2a7",
   "metadata": {},
   "outputs": [
    {
     "data": {
      "text/plain": [
       "<mlrun.projects.project.MlrunProject at 0x7fea402b66a0>"
      ]
     },
     "execution_count": 32,
     "metadata": {},
     "output_type": "execute_result"
    }
   ],
   "source": [
    "project.save()"
   ]
  },
  {
   "cell_type": "code",
   "execution_count": 33,
   "id": "8ceb2b87-6792-474d-9812-dc1e39619a4d",
   "metadata": {},
   "outputs": [],
   "source": [
    "func = project.set_function(\"./test-custom.py\",name=\"test-custom\",kind='job',image='mlrun/mlrun',handler='func_custom',with_repo=True)"
   ]
  },
  {
   "cell_type": "code",
   "execution_count": 34,
   "id": "d72fec00-41d9-48ed-886e-0e36e4102510",
   "metadata": {},
   "outputs": [
    {
     "name": "stdout",
     "output_type": "stream",
     "text": [
      "> 2023-07-09 15:56:54,779 [info] Storing function: {'name': 'test-custom-func-custom', 'uid': '4716e3c301c942d1973bbf60abc722e3', 'db': 'http://mlrun-api:8080'}\n",
      "> 2023-07-09 15:56:54,986 [info] Job is running in the background, pod: test-custom-func-custom-jlvdz\n",
      "> 2023-07-09 15:57:00,075 [info] extracting source from v3io:///projects/test-pack-gilad/artifacts/source-zip.zip to /mlrun/code\n",
      "> 2023-07-09 15:57:00,558 [info] Run execution finished: {'status': 'completed', 'name': 'test-custom-func-custom'}\n",
      "final state: completed\n"
     ]
    },
    {
     "data": {
      "text/html": [
       "<style>\n",
       ".dictlist {\n",
       "  background-color: #4EC64B;\n",
       "  text-align: center;\n",
       "  margin: 4px;\n",
       "  border-radius: 3px; padding: 0px 3px 1px 3px; display: inline-block;}\n",
       ".artifact {\n",
       "  cursor: pointer;\n",
       "  background-color: #4EC64B;\n",
       "  text-align: left;\n",
       "  margin: 4px; border-radius: 3px; padding: 0px 3px 1px 3px; display: inline-block;\n",
       "}\n",
       "div.block.hidden {\n",
       "  display: none;\n",
       "}\n",
       ".clickable {\n",
       "  cursor: pointer;\n",
       "}\n",
       ".ellipsis {\n",
       "  display: inline-block;\n",
       "  max-width: 60px;\n",
       "  white-space: nowrap;\n",
       "  overflow: hidden;\n",
       "  text-overflow: ellipsis;\n",
       "}\n",
       ".master-wrapper {\n",
       "  display: flex;\n",
       "  flex-flow: row nowrap;\n",
       "  justify-content: flex-start;\n",
       "  align-items: stretch;\n",
       "}\n",
       ".master-tbl {\n",
       "  flex: 3\n",
       "}\n",
       ".master-wrapper > div {\n",
       "  margin: 4px;\n",
       "  padding: 10px;\n",
       "}\n",
       "iframe.fileview {\n",
       "  border: 0 none;\n",
       "  height: 100%;\n",
       "  width: 100%;\n",
       "  white-space: pre-wrap;\n",
       "}\n",
       ".pane-header-title {\n",
       "  width: 80%;\n",
       "  font-weight: 500;\n",
       "}\n",
       ".pane-header {\n",
       "  line-height: 1;\n",
       "  background-color: #4EC64B;\n",
       "  padding: 3px;\n",
       "}\n",
       ".pane-header .close {\n",
       "  font-size: 20px;\n",
       "  font-weight: 700;\n",
       "  float: right;\n",
       "  margin-top: -5px;\n",
       "}\n",
       ".master-wrapper .right-pane {\n",
       "  border: 1px inset silver;\n",
       "  width: 40%;\n",
       "  min-height: 300px;\n",
       "  flex: 3\n",
       "  min-width: 500px;\n",
       "}\n",
       ".master-wrapper * {\n",
       "  box-sizing: border-box;\n",
       "}\n",
       "</style><script>\n",
       "function copyToClipboard(fld) {\n",
       "    if (document.queryCommandSupported && document.queryCommandSupported('copy')) {\n",
       "        var textarea = document.createElement('textarea');\n",
       "        textarea.textContent = fld.innerHTML;\n",
       "        textarea.style.position = 'fixed';\n",
       "        document.body.appendChild(textarea);\n",
       "        textarea.select();\n",
       "\n",
       "        try {\n",
       "            return document.execCommand('copy'); // Security exception may be thrown by some browsers.\n",
       "        } catch (ex) {\n",
       "\n",
       "        } finally {\n",
       "            document.body.removeChild(textarea);\n",
       "        }\n",
       "    }\n",
       "}\n",
       "function expandPanel(el) {\n",
       "  const panelName = \"#\" + el.getAttribute('paneName');\n",
       "  console.log(el.title);\n",
       "\n",
       "  document.querySelector(panelName + \"-title\").innerHTML = el.title\n",
       "  iframe = document.querySelector(panelName + \"-body\");\n",
       "\n",
       "  const tblcss = `<style> body { font-family: Arial, Helvetica, sans-serif;}\n",
       "    #csv { margin-bottom: 15px; }\n",
       "    #csv table { border-collapse: collapse;}\n",
       "    #csv table td { padding: 4px 8px; border: 1px solid silver;} </style>`;\n",
       "\n",
       "  function csvToHtmlTable(str) {\n",
       "    return '<div id=\"csv\"><table><tr><td>' +  str.replace(/[\\n\\r]+$/g, '').replace(/[\\n\\r]+/g, '</td></tr><tr><td>')\n",
       "      .replace(/,/g, '</td><td>') + '</td></tr></table></div>';\n",
       "  }\n",
       "\n",
       "  function reqListener () {\n",
       "    if (el.title.endsWith(\".csv\")) {\n",
       "      iframe.setAttribute(\"srcdoc\", tblcss + csvToHtmlTable(this.responseText));\n",
       "    } else {\n",
       "      iframe.setAttribute(\"srcdoc\", this.responseText);\n",
       "    }\n",
       "    console.log(this.responseText);\n",
       "  }\n",
       "\n",
       "  const oReq = new XMLHttpRequest();\n",
       "  oReq.addEventListener(\"load\", reqListener);\n",
       "  oReq.open(\"GET\", el.title);\n",
       "  oReq.send();\n",
       "\n",
       "\n",
       "  //iframe.src = el.title;\n",
       "  const resultPane = document.querySelector(panelName + \"-pane\");\n",
       "  if (resultPane.classList.contains(\"hidden\")) {\n",
       "    resultPane.classList.remove(\"hidden\");\n",
       "  }\n",
       "}\n",
       "function closePanel(el) {\n",
       "  const panelName = \"#\" + el.getAttribute('paneName')\n",
       "  const resultPane = document.querySelector(panelName + \"-pane\");\n",
       "  if (!resultPane.classList.contains(\"hidden\")) {\n",
       "    resultPane.classList.add(\"hidden\");\n",
       "  }\n",
       "}\n",
       "\n",
       "</script>\n",
       "<div class=\"master-wrapper\">\n",
       "  <div class=\"block master-tbl\"><div>\n",
       "<style scoped>\n",
       "    .dataframe tbody tr th:only-of-type {\n",
       "        vertical-align: middle;\n",
       "    }\n",
       "\n",
       "    .dataframe tbody tr th {\n",
       "        vertical-align: top;\n",
       "    }\n",
       "\n",
       "    .dataframe thead th {\n",
       "        text-align: right;\n",
       "    }\n",
       "</style>\n",
       "<table border=\"1\" class=\"dataframe\">\n",
       "  <thead>\n",
       "    <tr style=\"text-align: right;\">\n",
       "      <th>project</th>\n",
       "      <th>uid</th>\n",
       "      <th>iter</th>\n",
       "      <th>start</th>\n",
       "      <th>state</th>\n",
       "      <th>name</th>\n",
       "      <th>labels</th>\n",
       "      <th>inputs</th>\n",
       "      <th>parameters</th>\n",
       "      <th>results</th>\n",
       "      <th>artifacts</th>\n",
       "    </tr>\n",
       "  </thead>\n",
       "  <tbody>\n",
       "    <tr>\n",
       "      <td>test-pack-gilad</td>\n",
       "      <td><div title=\"4716e3c301c942d1973bbf60abc722e3\"><a href=\"https://dashboard.default-tenant.app.dev28.lab.iguazeng.com/mlprojects/test-pack-gilad/jobs/monitor/4716e3c301c942d1973bbf60abc722e3/overview\" target=\"_blank\" >...abc722e3</a></div></td>\n",
       "      <td>0</td>\n",
       "      <td>Jul 09 15:57:00</td>\n",
       "      <td>completed</td>\n",
       "      <td>test-custom-func-custom</td>\n",
       "      <td><div class=\"dictlist\">v3io_user=gilad</div><div class=\"dictlist\">kind=job</div><div class=\"dictlist\">owner=gilad</div><div class=\"dictlist\">mlrun/client_version=1.4.0-rc18</div><div class=\"dictlist\">mlrun/client_python_version=3.9.16</div><div class=\"dictlist\">host=test-custom-func-custom-jlvdz</div></td>\n",
       "      <td></td>\n",
       "      <td></td>\n",
       "      <td></td>\n",
       "      <td><div title=\"v3io:///projects/test-pack-gilad/artifacts/test-custom-func-custom/0/test_zip.zip\">test_zip</div></td>\n",
       "    </tr>\n",
       "  </tbody>\n",
       "</table>\n",
       "</div></div>\n",
       "  <div id=\"resultc0870dac-pane\" class=\"right-pane block hidden\">\n",
       "    <div class=\"pane-header\">\n",
       "      <span id=\"resultc0870dac-title\" class=\"pane-header-title\">Title</span>\n",
       "      <span onclick=\"closePanel(this)\" paneName=\"resultc0870dac\" class=\"close clickable\">&times;</span>\n",
       "    </div>\n",
       "    <iframe class=\"fileview\" id=\"resultc0870dac-body\"></iframe>\n",
       "  </div>\n",
       "</div>\n"
      ],
      "text/plain": [
       "<IPython.core.display.HTML object>"
      ]
     },
     "metadata": {},
     "output_type": "display_data"
    },
    {
     "name": "stdout",
     "output_type": "stream",
     "text": []
    },
    {
     "data": {
      "text/html": [
       "<b> > to track results use the .show() or .logs() methods  or <a href=\"https://dashboard.default-tenant.app.dev28.lab.iguazeng.com/mlprojects/test-pack-gilad/jobs/monitor/4716e3c301c942d1973bbf60abc722e3/overview\" target=\"_blank\">click here</a> to open in UI</b>"
      ],
      "text/plain": [
       "<IPython.core.display.HTML object>"
      ]
     },
     "metadata": {},
     "output_type": "display_data"
    },
    {
     "name": "stdout",
     "output_type": "stream",
     "text": [
      "> 2023-07-09 15:57:05,119 [info] Run execution finished: {'status': 'completed', 'name': 'test-custom-func-custom'}\n"
     ]
    }
   ],
   "source": [
    "test_func = func.run(returns=[\"test_zip:file\"])"
   ]
  },
  {
   "cell_type": "markdown",
   "id": "3b768169-4be1-448d-9cf5-a6ec5f6e5788",
   "metadata": {
    "tags": []
   },
   "source": [
    "## 6. Unpack Custom packager\n",
    "Expcted result -\n",
    "* unpack the zip file to the temp folder and check the file content and run without assert issue"
   ]
  },
  {
   "cell_type": "code",
   "execution_count": 35,
   "id": "910ec383-43c8-42d6-937c-877f46096ed4",
   "metadata": {
    "tags": []
   },
   "outputs": [],
   "source": [
    "func = project.set_function(\"./test-custom-unpack.py\",name=\"test-custom-unpack\",kind='job',image='mlrun/mlrun',handler='func_custom',with_repo=True)"
   ]
  },
  {
   "cell_type": "code",
   "execution_count": 36,
   "id": "516f626e-1bb3-4da3-a4f9-a0df0090ccbd",
   "metadata": {},
   "outputs": [],
   "source": [
    "input_zip = test_func.outputs[\"test_zip\"]"
   ]
  },
  {
   "cell_type": "code",
   "execution_count": 37,
   "id": "66e7f913-aa2f-4a8f-a09c-a247c2a49b88",
   "metadata": {},
   "outputs": [
    {
     "name": "stdout",
     "output_type": "stream",
     "text": [
      "> 2023-07-09 15:57:05,170 [info] Storing function: {'name': 'test-custom-unpack-func-custom', 'uid': 'e3eced2d79b64df3b9ef4c99cf513ee8', 'db': 'http://mlrun-api:8080'}\n",
      "> 2023-07-09 15:57:05,385 [info] Job is running in the background, pod: test-custom-unpack-func-custom-jl62s\n",
      "> 2023-07-09 15:57:10,374 [info] extracting source from v3io:///projects/test-pack-gilad/artifacts/source-zip.zip to /mlrun/code\n",
      "> 2023-07-09 15:57:10,745 [info] downloading v3io:///projects/test-pack-gilad/artifacts/test-custom-func-custom/0/test_zip.zip to local temp file\n",
      "/tmp/tmpa65y0wnb\n",
      "> 2023-07-09 15:57:10,754 [warning] Skipping logging an object with the log hint '{'key': 'State'}' due to the following error:\n",
      "An exception was raised during the packing of '{'key': 'State'}': The given path is not a file nor a directory: 'Completed'\n",
      "> 2023-07-09 15:57:10,823 [info] Run execution finished: {'status': 'completed', 'name': 'test-custom-unpack-func-custom'}\n",
      "final state: completed\n"
     ]
    },
    {
     "data": {
      "text/html": [
       "<style>\n",
       ".dictlist {\n",
       "  background-color: #4EC64B;\n",
       "  text-align: center;\n",
       "  margin: 4px;\n",
       "  border-radius: 3px; padding: 0px 3px 1px 3px; display: inline-block;}\n",
       ".artifact {\n",
       "  cursor: pointer;\n",
       "  background-color: #4EC64B;\n",
       "  text-align: left;\n",
       "  margin: 4px; border-radius: 3px; padding: 0px 3px 1px 3px; display: inline-block;\n",
       "}\n",
       "div.block.hidden {\n",
       "  display: none;\n",
       "}\n",
       ".clickable {\n",
       "  cursor: pointer;\n",
       "}\n",
       ".ellipsis {\n",
       "  display: inline-block;\n",
       "  max-width: 60px;\n",
       "  white-space: nowrap;\n",
       "  overflow: hidden;\n",
       "  text-overflow: ellipsis;\n",
       "}\n",
       ".master-wrapper {\n",
       "  display: flex;\n",
       "  flex-flow: row nowrap;\n",
       "  justify-content: flex-start;\n",
       "  align-items: stretch;\n",
       "}\n",
       ".master-tbl {\n",
       "  flex: 3\n",
       "}\n",
       ".master-wrapper > div {\n",
       "  margin: 4px;\n",
       "  padding: 10px;\n",
       "}\n",
       "iframe.fileview {\n",
       "  border: 0 none;\n",
       "  height: 100%;\n",
       "  width: 100%;\n",
       "  white-space: pre-wrap;\n",
       "}\n",
       ".pane-header-title {\n",
       "  width: 80%;\n",
       "  font-weight: 500;\n",
       "}\n",
       ".pane-header {\n",
       "  line-height: 1;\n",
       "  background-color: #4EC64B;\n",
       "  padding: 3px;\n",
       "}\n",
       ".pane-header .close {\n",
       "  font-size: 20px;\n",
       "  font-weight: 700;\n",
       "  float: right;\n",
       "  margin-top: -5px;\n",
       "}\n",
       ".master-wrapper .right-pane {\n",
       "  border: 1px inset silver;\n",
       "  width: 40%;\n",
       "  min-height: 300px;\n",
       "  flex: 3\n",
       "  min-width: 500px;\n",
       "}\n",
       ".master-wrapper * {\n",
       "  box-sizing: border-box;\n",
       "}\n",
       "</style><script>\n",
       "function copyToClipboard(fld) {\n",
       "    if (document.queryCommandSupported && document.queryCommandSupported('copy')) {\n",
       "        var textarea = document.createElement('textarea');\n",
       "        textarea.textContent = fld.innerHTML;\n",
       "        textarea.style.position = 'fixed';\n",
       "        document.body.appendChild(textarea);\n",
       "        textarea.select();\n",
       "\n",
       "        try {\n",
       "            return document.execCommand('copy'); // Security exception may be thrown by some browsers.\n",
       "        } catch (ex) {\n",
       "\n",
       "        } finally {\n",
       "            document.body.removeChild(textarea);\n",
       "        }\n",
       "    }\n",
       "}\n",
       "function expandPanel(el) {\n",
       "  const panelName = \"#\" + el.getAttribute('paneName');\n",
       "  console.log(el.title);\n",
       "\n",
       "  document.querySelector(panelName + \"-title\").innerHTML = el.title\n",
       "  iframe = document.querySelector(panelName + \"-body\");\n",
       "\n",
       "  const tblcss = `<style> body { font-family: Arial, Helvetica, sans-serif;}\n",
       "    #csv { margin-bottom: 15px; }\n",
       "    #csv table { border-collapse: collapse;}\n",
       "    #csv table td { padding: 4px 8px; border: 1px solid silver;} </style>`;\n",
       "\n",
       "  function csvToHtmlTable(str) {\n",
       "    return '<div id=\"csv\"><table><tr><td>' +  str.replace(/[\\n\\r]+$/g, '').replace(/[\\n\\r]+/g, '</td></tr><tr><td>')\n",
       "      .replace(/,/g, '</td><td>') + '</td></tr></table></div>';\n",
       "  }\n",
       "\n",
       "  function reqListener () {\n",
       "    if (el.title.endsWith(\".csv\")) {\n",
       "      iframe.setAttribute(\"srcdoc\", tblcss + csvToHtmlTable(this.responseText));\n",
       "    } else {\n",
       "      iframe.setAttribute(\"srcdoc\", this.responseText);\n",
       "    }\n",
       "    console.log(this.responseText);\n",
       "  }\n",
       "\n",
       "  const oReq = new XMLHttpRequest();\n",
       "  oReq.addEventListener(\"load\", reqListener);\n",
       "  oReq.open(\"GET\", el.title);\n",
       "  oReq.send();\n",
       "\n",
       "\n",
       "  //iframe.src = el.title;\n",
       "  const resultPane = document.querySelector(panelName + \"-pane\");\n",
       "  if (resultPane.classList.contains(\"hidden\")) {\n",
       "    resultPane.classList.remove(\"hidden\");\n",
       "  }\n",
       "}\n",
       "function closePanel(el) {\n",
       "  const panelName = \"#\" + el.getAttribute('paneName')\n",
       "  const resultPane = document.querySelector(panelName + \"-pane\");\n",
       "  if (!resultPane.classList.contains(\"hidden\")) {\n",
       "    resultPane.classList.add(\"hidden\");\n",
       "  }\n",
       "}\n",
       "\n",
       "</script>\n",
       "<div class=\"master-wrapper\">\n",
       "  <div class=\"block master-tbl\"><div>\n",
       "<style scoped>\n",
       "    .dataframe tbody tr th:only-of-type {\n",
       "        vertical-align: middle;\n",
       "    }\n",
       "\n",
       "    .dataframe tbody tr th {\n",
       "        vertical-align: top;\n",
       "    }\n",
       "\n",
       "    .dataframe thead th {\n",
       "        text-align: right;\n",
       "    }\n",
       "</style>\n",
       "<table border=\"1\" class=\"dataframe\">\n",
       "  <thead>\n",
       "    <tr style=\"text-align: right;\">\n",
       "      <th>project</th>\n",
       "      <th>uid</th>\n",
       "      <th>iter</th>\n",
       "      <th>start</th>\n",
       "      <th>state</th>\n",
       "      <th>name</th>\n",
       "      <th>labels</th>\n",
       "      <th>inputs</th>\n",
       "      <th>parameters</th>\n",
       "      <th>results</th>\n",
       "      <th>artifacts</th>\n",
       "    </tr>\n",
       "  </thead>\n",
       "  <tbody>\n",
       "    <tr>\n",
       "      <td>test-pack-gilad</td>\n",
       "      <td><div title=\"e3eced2d79b64df3b9ef4c99cf513ee8\"><a href=\"https://dashboard.default-tenant.app.dev28.lab.iguazeng.com/mlprojects/test-pack-gilad/jobs/monitor/e3eced2d79b64df3b9ef4c99cf513ee8/overview\" target=\"_blank\" >...cf513ee8</a></div></td>\n",
       "      <td>0</td>\n",
       "      <td>Jul 09 15:57:10</td>\n",
       "      <td>completed</td>\n",
       "      <td>test-custom-unpack-func-custom</td>\n",
       "      <td><div class=\"dictlist\">v3io_user=gilad</div><div class=\"dictlist\">kind=job</div><div class=\"dictlist\">owner=gilad</div><div class=\"dictlist\">mlrun/client_version=1.4.0-rc18</div><div class=\"dictlist\">mlrun/client_python_version=3.9.16</div><div class=\"dictlist\">host=test-custom-unpack-func-custom-jl62s</div></td>\n",
       "      <td><div title=\"store://artifacts/test-pack-gilad/test-custom-func-custom_test_zip:4716e3c301c942d1973bbf60abc722e3\">zip_file</div></td>\n",
       "      <td></td>\n",
       "      <td></td>\n",
       "      <td></td>\n",
       "    </tr>\n",
       "  </tbody>\n",
       "</table>\n",
       "</div></div>\n",
       "  <div id=\"resultaa141ea9-pane\" class=\"right-pane block hidden\">\n",
       "    <div class=\"pane-header\">\n",
       "      <span id=\"resultaa141ea9-title\" class=\"pane-header-title\">Title</span>\n",
       "      <span onclick=\"closePanel(this)\" paneName=\"resultaa141ea9\" class=\"close clickable\">&times;</span>\n",
       "    </div>\n",
       "    <iframe class=\"fileview\" id=\"resultaa141ea9-body\"></iframe>\n",
       "  </div>\n",
       "</div>\n"
      ],
      "text/plain": [
       "<IPython.core.display.HTML object>"
      ]
     },
     "metadata": {},
     "output_type": "display_data"
    },
    {
     "name": "stdout",
     "output_type": "stream",
     "text": []
    },
    {
     "data": {
      "text/html": [
       "<b> > to track results use the .show() or .logs() methods  or <a href=\"https://dashboard.default-tenant.app.dev28.lab.iguazeng.com/mlprojects/test-pack-gilad/jobs/monitor/e3eced2d79b64df3b9ef4c99cf513ee8/overview\" target=\"_blank\">click here</a> to open in UI</b>"
      ],
      "text/plain": [
       "<IPython.core.display.HTML object>"
      ]
     },
     "metadata": {},
     "output_type": "display_data"
    },
    {
     "name": "stdout",
     "output_type": "stream",
     "text": [
      "> 2023-07-09 15:57:14,513 [info] Run execution finished: {'status': 'completed', 'name': 'test-custom-unpack-func-custom'}\n"
     ]
    },
    {
     "data": {
      "text/plain": [
       "<mlrun.model.RunObject at 0x7fea05190d60>"
      ]
     },
     "execution_count": 37,
     "metadata": {},
     "output_type": "execute_result"
    }
   ],
   "source": [
    "func.run(inputs={\"zip_file\":input_zip},returns=[\"State\"])"
   ]
  },
  {
   "cell_type": "code",
   "execution_count": 38,
   "id": "6ae0366e-797b-4267-b856-1388c84d3dcb",
   "metadata": {},
   "outputs": [],
   "source": [
    "db = mlrun.get_run_db()"
   ]
  },
  {
   "cell_type": "code",
   "execution_count": 39,
   "id": "cc092f7d-df4c-4855-bb44-c2811444de5e",
   "metadata": {},
   "outputs": [],
   "source": [
    "db.delete_project(name=project.name,deletion_strategy='cascade')"
   ]
  },
  {
   "cell_type": "code",
   "execution_count": 40,
   "id": "a463fb5e-6807-4640-a42e-a5711bee4fed",
   "metadata": {},
   "outputs": [],
   "source": [
    "shutil.rmtree('./context/')"
   ]
  },
  {
   "cell_type": "code",
   "execution_count": 41,
   "id": "7c22c925-0599-4c31-92cc-5dd30a448186",
   "metadata": {},
   "outputs": [],
   "source": [
    "shutil.rmtree('./custom_pack/')"
   ]
  },
  {
   "cell_type": "code",
   "execution_count": 42,
   "id": "39ba2f45-f722-4110-934d-d36920b49628",
   "metadata": {},
   "outputs": [],
   "source": [
    "os.remove('./test.zip')"
   ]
  }
 ],
 "metadata": {
  "kernelspec": {
   "display_name": "mlrun-extended",
   "language": "python",
   "name": "conda-env-mlrun-extended-py"
  },
  "language_info": {
   "codemirror_mode": {
    "name": "ipython",
    "version": 3
   },
   "file_extension": ".py",
   "mimetype": "text/x-python",
   "name": "python",
   "nbconvert_exporter": "python",
   "pygments_lexer": "ipython3",
   "version": "3.9.16"
  }
 },
 "nbformat": 4,
 "nbformat_minor": 5
}
