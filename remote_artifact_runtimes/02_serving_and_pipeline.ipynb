{
 "cells": [
  {
   "cell_type": "markdown",
   "id": "d86ae3cd",
   "metadata": {},
   "source": [
    "# Serving Runtime Remote Artifacts"
   ]
  },
  {
   "cell_type": "code",
   "execution_count": 1,
   "id": "5f6295da",
   "metadata": {},
   "outputs": [
    {
     "name": "stdout",
     "output_type": "stream",
     "text": [
      "> 2023-03-06 07:39:46,471 [info] loaded project remote-artifacts from MLRun DB\n"
     ]
    }
   ],
   "source": [
    "import mlrun\n",
    "import os\n",
    "\n",
    "# Initialize the MLRun project object\n",
    "project = mlrun.get_or_create_project('remote-artifacts',user_project=True,context='./')\n",
    "\n",
    "# Required credentials :\n",
    "# AWS_ACCESS_KEY_ID, AWS_SECRET_ACCESS_KEY, GOOGLE_APPLICATION_CREDENTIALS, S3_BUCKET\n",
    "AWS_ACCESS_KEY_ID = os.environ.get('AWS_ACCESS_KEY_ID', None)\n",
    "AWS_SECRET_ACCESS_KEY = os.environ.get('AWS_SECRET_ACCESS_KEY', None)\n",
    "GOOGLE_APPLICATION_CREDENTIALS = os.environ.get('GOOGLE_APPLICATION_CREDENTIALS', None)\n",
    "\n",
    "# Setting as env variables\n",
    "os.environ['AWS_ACCESS_KEY_ID'] = AWS_ACCESS_KEY_ID\n",
    "os.environ['AWS_SECRET_ACCESS_KEY'] = AWS_SECRET_ACCESS_KEY\n",
    "os.environ['GOOGLE_APPLICATION_CREDENTIALS'] = GOOGLE_APPLICATION_CREDENTIALS\n",
    "assert AWS_ACCESS_KEY_ID != None and AWS_SECRET_ACCESS_KEY != None and GOOGLE_APPLICATION_CREDENTIALS != None, \"please provide credentials\"\n",
    "\n",
    "secrets = {'AWS_ACCESS_KEY_ID': AWS_ACCESS_KEY_ID,\n",
    "           'AWS_SECRET_ACCESS_KEY':AWS_SECRET_ACCESS_KEY,\n",
    "           'GOOGLE_APPLICATION_CREDENTIALS': GOOGLE_APPLICATION_CREDENTIALS}\n",
    "\n",
    "project.set_secrets(secrets=secrets, provider='kubernetes')\n",
    "\n",
    "S3_BUCKET = os.environ.get('S3_BUCKET', 'testbucket-igz-temp')\n",
    "\n",
    "assert project.artifact_path != None, 'please run 01_mlrun_job.ipynb'"
   ]
  },
  {
   "cell_type": "code",
   "execution_count": 2,
   "id": "3b522aa3",
   "metadata": {},
   "outputs": [
    {
     "name": "stdout",
     "output_type": "stream",
     "text": [
      "> 2023-03-06 07:39:46,557 [warning] it is recommended to use k8s secret (specify secret_name), specifying the aws_access_key/aws_secret_key directly is unsafe\n"
     ]
    },
    {
     "data": {
      "text/plain": [
       "<mlrun.runtimes.serving.ServingRuntime at 0x7fa74ce70690>"
      ]
     },
     "execution_count": 2,
     "metadata": {},
     "output_type": "execute_result"
    }
   ],
   "source": [
    "# Setting dummy serving function\n",
    "project.set_function(mlrun.new_function(name='serving', kind='serving',image='mlrun/mlrun', command = []))\n",
    "project.get_function('serving').spec.build.commands = ['pip install xgboost']\n",
    "project.get_function('serving').set_envs(secrets)\n",
    "# adding our remote source model\n",
    "model_artifact = project.get_artifact('log-transactions-log-transactions_clf_model')\n",
    "model_path = model_artifact.get_target_path() + model_artifact.model_file\n",
    "\n",
    "project.get_function('serving').add_model(key = 'my_model',\n",
    "                                          class_name = \"mlrun.frameworks.xgboost.XGBoostModelServer\",\n",
    "                                          model_path = model_path)\n",
    "\n",
    "# mounting\n",
    "project.get_function('serving').apply(mlrun.auto_mount())\n",
    "project.get_function('serving').apply(mlrun.platforms.mount_s3())"
   ]
  },
  {
   "cell_type": "code",
   "execution_count": 3,
   "id": "411f265a",
   "metadata": {},
   "outputs": [
    {
     "name": "stdout",
     "output_type": "stream",
     "text": [
      "> 2023-03-06 07:39:46,569 [warning] run command, file or code were not specified\n",
      "> 2023-03-06 07:39:58,999 [info] model my_model was loaded\n",
      "> 2023-03-06 07:39:59,007 [info] Loaded ['my_model']\n"
     ]
    }
   ],
   "source": [
    "server = project.get_function('serving').to_mock_server()"
   ]
  },
  {
   "cell_type": "code",
   "execution_count": 4,
   "id": "e97fb83e",
   "metadata": {},
   "outputs": [
    {
     "data": {
      "text/plain": [
       "{'id': 'c69b7ad680264048be4629f97ca75e94',\n",
       " 'model_name': 'my_model',\n",
       " 'outputs': [2, 1, 0]}"
      ]
     },
     "execution_count": 4,
     "metadata": {},
     "output_type": "execute_result"
    }
   ],
   "source": [
    "from sklearn.datasets import load_iris\n",
    "from sklearn.model_selection import train_test_split\n",
    "\n",
    "X,y = load_iris(return_X_y=True)\n",
    "\n",
    "X_train, X_test, y_train, y_test = train_test_split(X, y, train_size=0.8, test_size=0.2, random_state=0)\n",
    "\n",
    "server.test(body={'inputs': X_test.tolist()[:3]})"
   ]
  },
  {
   "cell_type": "code",
   "execution_count": 5,
   "id": "934569ca",
   "metadata": {},
   "outputs": [
    {
     "name": "stdout",
     "output_type": "stream",
     "text": [
      "> 2023-03-06 07:39:59,065 [info] Starting remote function deploy\n",
      "2023-03-06 07:39:59  (info) Deploying function\n",
      "2023-03-06 07:39:59  (info) Building\n",
      "2023-03-06 07:39:59  (info) Staging files and preparing base images\n",
      "2023-03-06 07:39:59  (info) Building processor image\n",
      "2023-03-06 07:40:59  (info) Build complete\n",
      "2023-03-06 07:41:15  (info) Function deploy complete\n",
      "> 2023-03-06 07:41:20,280 [info] successfully deployed function: {'internal_invocation_urls': ['nuclio-remote-artifacts-normal-user-serving.default-tenant.svc.cluster.local:8080'], 'external_invocation_urls': ['remote-artifacts-normal-user-serving-remote-artifacts-1tkokejo.default-tenant.app.vmdev92.lab.iguazeng.com/']}\n"
     ]
    },
    {
     "data": {
      "text/plain": [
       "DeployStatus(state=ready, outputs={'endpoint': 'http://remote-artifacts-normal-user-serving-remote-artifacts-1tkokejo.default-tenant.app.vmdev92.lab.iguazeng.com/', 'name': 'remote-artifacts-normal-user-serving'})"
      ]
     },
     "execution_count": 5,
     "metadata": {},
     "output_type": "execute_result"
    }
   ],
   "source": [
    "project.deploy_function('serving')"
   ]
  },
  {
   "cell_type": "code",
   "execution_count": 6,
   "id": "b003a67c",
   "metadata": {},
   "outputs": [
    {
     "name": "stdout",
     "output_type": "stream",
     "text": [
      "> 2023-03-06 07:41:25,376 [info] invoking function: {'method': 'POST', 'path': 'http://nuclio-remote-artifacts-normal-user-serving.default-tenant.svc.cluster.local:8080/v2/models/my_model/infer'}\n"
     ]
    },
    {
     "data": {
      "text/plain": [
       "{'id': 'dd19d122-4768-4e4f-944f-fd64e060d66f',\n",
       " 'model_name': 'my_model',\n",
       " 'outputs': [2, 1, 0]}"
      ]
     },
     "execution_count": 6,
     "metadata": {},
     "output_type": "execute_result"
    }
   ],
   "source": [
    "import time\n",
    "time.sleep(5)\n",
    "project.get_function('serving').invoke('/v2/models/my_model/infer', body={'inputs': X_test.tolist()[:3]})"
   ]
  },
  {
   "cell_type": "markdown",
   "id": "27290582",
   "metadata": {},
   "source": [
    "# Pipeline remote access"
   ]
  },
  {
   "cell_type": "code",
   "execution_count": 7,
   "id": "184fea2f",
   "metadata": {},
   "outputs": [
    {
     "name": "stdout",
     "output_type": "stream",
     "text": [
      "Writing workflow.py\n"
     ]
    }
   ],
   "source": [
    "%%writefile workflow.py\n",
    "import mlrun\n",
    "from kfp import dsl\n",
    "import os\n",
    "\n",
    "@dsl.pipeline(name=\"Mask Detection Pipeline\")\n",
    "\n",
    "def kfpipeline():\n",
    "    # Get our project object:\n",
    "    project = mlrun.get_current_project()\n",
    "    \n",
    "    project.get_function('log_transactions').apply(mlrun.platforms.set_env_variables({'GOOGLE_APPLICATION_CREDENTIALS':\n",
    "                                                                                      os.environ.get('GOOGLE_APPLICATION_CREDENTIALS')}))\n",
    "    project.get_function('log_transactions').apply(mlrun.platforms.mount_s3())\n",
    "    project.get_function('log_transactions').apply(mlrun.auto_mount())\n",
    "    run = project.run_function('log_transactions')\n",
    "    \n",
    "    model_artifact = project.get_artifact('log-transactions-log-transactions_clf_model')\n",
    "    model_path = model_artifact.get_target_path() + model_artifact.model_file\n",
    "    \n",
    "    project.get_function('serving').add_model(key = 'my_model',\n",
    "                                          class_name = \"mlrun.frameworks.xgboost.XGBoostModelServer\",\n",
    "                                          model_path = model_path)\n",
    "    \n",
    "    project.deploy_function('serving').after(run)\n",
    "    return"
   ]
  },
  {
   "cell_type": "code",
   "execution_count": 8,
   "id": "808d7436",
   "metadata": {},
   "outputs": [
    {
     "data": {
      "text/plain": [
       "<mlrun.projects.project.MlrunProject at 0x7fa74cf0fd10>"
      ]
     },
     "execution_count": 8,
     "metadata": {},
     "output_type": "execute_result"
    }
   ],
   "source": [
    "# Register the workflow file:\n",
    "workflow_name = \"iris_workflow\"\n",
    "project.set_workflow(workflow_name, \"workflow.py\")\n",
    "\n",
    "# Save the project:\n",
    "project.save()"
   ]
  },
  {
   "cell_type": "code",
   "execution_count": 9,
   "id": "7122f780",
   "metadata": {},
   "outputs": [
    {
     "data": {
      "text/html": [
       "Pipeline started in project remote-artifacts-normal-user id=46e1cfbe5d0542728ab0d79cc93b66bf<div><a href=\"https://dashboard.default-tenant.app.vmdev92.lab.iguazeng.com/mlprojects/remote-artifacts-normal-user/jobs\" target=\"_blank\">click here to view progress</a></div>"
      ],
      "text/plain": [
       "<IPython.core.display.HTML object>"
      ]
     },
     "metadata": {},
     "output_type": "display_data"
    },
    {
     "name": "stdout",
     "output_type": "stream",
     "text": [
      "> 2023-03-06 07:41:56,176 [warning] it is recommended to use k8s secret (specify secret_name), specifying the aws_access_key/aws_secret_key directly is unsafe\n",
      "> 2023-03-06 07:41:56,182 [info] starting run log-transactions-log-transactions uid=a3e7aca978e543d4bd67ab7b6bb93617 DB=http://mlrun-api:8080\n",
      "> 2023-03-06 07:42:05,090 [info] encoded dataframe shape : (150, 4)\n",
      "> 2023-03-06 07:42:06,114 [info] logged model : <class 'xgboost.sklearn.XGBClassifier'>\n",
      "> 2023-03-06 07:42:17,861 [info] logged dataset shape (150, 5)\n"
     ]
    },
    {
     "data": {
      "text/html": [
       "<style>\n",
       ".dictlist {\n",
       "  background-color: #4EC64B;\n",
       "  text-align: center;\n",
       "  margin: 4px;\n",
       "  border-radius: 3px; padding: 0px 3px 1px 3px; display: inline-block;}\n",
       ".artifact {\n",
       "  cursor: pointer;\n",
       "  background-color: #4EC64B;\n",
       "  text-align: left;\n",
       "  margin: 4px; border-radius: 3px; padding: 0px 3px 1px 3px; display: inline-block;\n",
       "}\n",
       "div.block.hidden {\n",
       "  display: none;\n",
       "}\n",
       ".clickable {\n",
       "  cursor: pointer;\n",
       "}\n",
       ".ellipsis {\n",
       "  display: inline-block;\n",
       "  max-width: 60px;\n",
       "  white-space: nowrap;\n",
       "  overflow: hidden;\n",
       "  text-overflow: ellipsis;\n",
       "}\n",
       ".master-wrapper {\n",
       "  display: flex;\n",
       "  flex-flow: row nowrap;\n",
       "  justify-content: flex-start;\n",
       "  align-items: stretch;\n",
       "}\n",
       ".master-tbl {\n",
       "  flex: 3\n",
       "}\n",
       ".master-wrapper > div {\n",
       "  margin: 4px;\n",
       "  padding: 10px;\n",
       "}\n",
       "iframe.fileview {\n",
       "  border: 0 none;\n",
       "  height: 100%;\n",
       "  width: 100%;\n",
       "  white-space: pre-wrap;\n",
       "}\n",
       ".pane-header-title {\n",
       "  width: 80%;\n",
       "  font-weight: 500;\n",
       "}\n",
       ".pane-header {\n",
       "  line-height: 1;\n",
       "  background-color: #4EC64B;\n",
       "  padding: 3px;\n",
       "}\n",
       ".pane-header .close {\n",
       "  font-size: 20px;\n",
       "  font-weight: 700;\n",
       "  float: right;\n",
       "  margin-top: -5px;\n",
       "}\n",
       ".master-wrapper .right-pane {\n",
       "  border: 1px inset silver;\n",
       "  width: 40%;\n",
       "  min-height: 300px;\n",
       "  flex: 3\n",
       "  min-width: 500px;\n",
       "}\n",
       ".master-wrapper * {\n",
       "  box-sizing: border-box;\n",
       "}\n",
       "</style><script>\n",
       "function copyToClipboard(fld) {\n",
       "    if (document.queryCommandSupported && document.queryCommandSupported('copy')) {\n",
       "        var textarea = document.createElement('textarea');\n",
       "        textarea.textContent = fld.innerHTML;\n",
       "        textarea.style.position = 'fixed';\n",
       "        document.body.appendChild(textarea);\n",
       "        textarea.select();\n",
       "\n",
       "        try {\n",
       "            return document.execCommand('copy'); // Security exception may be thrown by some browsers.\n",
       "        } catch (ex) {\n",
       "\n",
       "        } finally {\n",
       "            document.body.removeChild(textarea);\n",
       "        }\n",
       "    }\n",
       "}\n",
       "function expandPanel(el) {\n",
       "  const panelName = \"#\" + el.getAttribute('paneName');\n",
       "  console.log(el.title);\n",
       "\n",
       "  document.querySelector(panelName + \"-title\").innerHTML = el.title\n",
       "  iframe = document.querySelector(panelName + \"-body\");\n",
       "\n",
       "  const tblcss = `<style> body { font-family: Arial, Helvetica, sans-serif;}\n",
       "    #csv { margin-bottom: 15px; }\n",
       "    #csv table { border-collapse: collapse;}\n",
       "    #csv table td { padding: 4px 8px; border: 1px solid silver;} </style>`;\n",
       "\n",
       "  function csvToHtmlTable(str) {\n",
       "    return '<div id=\"csv\"><table><tr><td>' +  str.replace(/[\\n\\r]+$/g, '').replace(/[\\n\\r]+/g, '</td></tr><tr><td>')\n",
       "      .replace(/,/g, '</td><td>') + '</td></tr></table></div>';\n",
       "  }\n",
       "\n",
       "  function reqListener () {\n",
       "    if (el.title.endsWith(\".csv\")) {\n",
       "      iframe.setAttribute(\"srcdoc\", tblcss + csvToHtmlTable(this.responseText));\n",
       "    } else {\n",
       "      iframe.setAttribute(\"srcdoc\", this.responseText);\n",
       "    }\n",
       "    console.log(this.responseText);\n",
       "  }\n",
       "\n",
       "  const oReq = new XMLHttpRequest();\n",
       "  oReq.addEventListener(\"load\", reqListener);\n",
       "  oReq.open(\"GET\", el.title);\n",
       "  oReq.send();\n",
       "\n",
       "\n",
       "  //iframe.src = el.title;\n",
       "  const resultPane = document.querySelector(panelName + \"-pane\");\n",
       "  if (resultPane.classList.contains(\"hidden\")) {\n",
       "    resultPane.classList.remove(\"hidden\");\n",
       "  }\n",
       "}\n",
       "function closePanel(el) {\n",
       "  const panelName = \"#\" + el.getAttribute('paneName')\n",
       "  const resultPane = document.querySelector(panelName + \"-pane\");\n",
       "  if (!resultPane.classList.contains(\"hidden\")) {\n",
       "    resultPane.classList.add(\"hidden\");\n",
       "  }\n",
       "}\n",
       "\n",
       "</script>\n",
       "<div class=\"master-wrapper\">\n",
       "  <div class=\"block master-tbl\"><div>\n",
       "<style scoped>\n",
       "    .dataframe tbody tr th:only-of-type {\n",
       "        vertical-align: middle;\n",
       "    }\n",
       "\n",
       "    .dataframe tbody tr th {\n",
       "        vertical-align: top;\n",
       "    }\n",
       "\n",
       "    .dataframe thead th {\n",
       "        text-align: right;\n",
       "    }\n",
       "</style>\n",
       "<table border=\"1\" class=\"dataframe\">\n",
       "  <thead>\n",
       "    <tr style=\"text-align: right;\">\n",
       "      <th>project</th>\n",
       "      <th>uid</th>\n",
       "      <th>iter</th>\n",
       "      <th>start</th>\n",
       "      <th>state</th>\n",
       "      <th>name</th>\n",
       "      <th>labels</th>\n",
       "      <th>inputs</th>\n",
       "      <th>parameters</th>\n",
       "      <th>results</th>\n",
       "      <th>artifacts</th>\n",
       "    </tr>\n",
       "  </thead>\n",
       "  <tbody>\n",
       "    <tr>\n",
       "      <td>remote-artifacts-normal-user</td>\n",
       "      <td><div title=\"a3e7aca978e543d4bd67ab7b6bb93617\"><a href=\"https://dashboard.default-tenant.app.vmdev92.lab.iguazeng.com/mlprojects/remote-artifacts-normal-user/jobs/monitor/a3e7aca978e543d4bd67ab7b6bb93617/overview\" target=\"_blank\" >...6bb93617</a></div></td>\n",
       "      <td>0</td>\n",
       "      <td>Mar 06 07:41:56</td>\n",
       "      <td>completed</td>\n",
       "      <td>log-transactions-log-transactions</td>\n",
       "      <td><div class=\"dictlist\">workflow=46e1cfbe5d0542728ab0d79cc93b66bf</div><div class=\"dictlist\">v3io_user=normal-user</div><div class=\"dictlist\">kind=</div><div class=\"dictlist\">owner=normal-user</div><div class=\"dictlist\">host=jupyter-v5afxg4hcf-at3sd-77c89bbcd5-svv9f</div></td>\n",
       "      <td></td>\n",
       "      <td></td>\n",
       "      <td></td>\n",
       "      <td><div title=\"s3://testbucket-igz/remote-artifacts/log-transactions-log-transactions/0/encoded_iris-s3.csv\">encoded_iris-s3</div><div title=\"s3://testbucket-igz/remote-artifacts/log-transactions-log-transactions/0/clf_model/\">clf_model</div><div title=\"s3://testbucket-igz/remote-artifacts/\">my_project</div><div title=\"s3://testbucket-igz/remote-artifacts/log-transactions-log-transactions/0/iris_dataset-s3.csv\">iris_dataset-s3</div></td>\n",
       "    </tr>\n",
       "  </tbody>\n",
       "</table>\n",
       "</div></div>\n",
       "  <div id=\"resultad7691d2-pane\" class=\"right-pane block hidden\">\n",
       "    <div class=\"pane-header\">\n",
       "      <span id=\"resultad7691d2-title\" class=\"pane-header-title\">Title</span>\n",
       "      <span onclick=\"closePanel(this)\" paneName=\"resultad7691d2\" class=\"close clickable\">&times;</span>\n",
       "    </div>\n",
       "    <iframe class=\"fileview\" id=\"resultad7691d2-body\"></iframe>\n",
       "  </div>\n",
       "</div>\n"
      ],
      "text/plain": [
       "<IPython.core.display.HTML object>"
      ]
     },
     "metadata": {},
     "output_type": "display_data"
    },
    {
     "name": "stdout",
     "output_type": "stream",
     "text": [
      "\n"
     ]
    },
    {
     "data": {
      "text/html": [
       "<b> > to track results use the .show() or .logs() methods  or <a href=\"https://dashboard.default-tenant.app.vmdev92.lab.iguazeng.com/mlprojects/remote-artifacts-normal-user/jobs/monitor/a3e7aca978e543d4bd67ab7b6bb93617/overview\" target=\"_blank\">click here</a> to open in UI</b>"
      ],
      "text/plain": [
       "<IPython.core.display.HTML object>"
      ]
     },
     "metadata": {},
     "output_type": "display_data"
    },
    {
     "name": "stdout",
     "output_type": "stream",
     "text": [
      "> 2023-03-06 07:42:18,171 [info] run executed, status=completed\n",
      "> 2023-03-06 07:42:18,210 [info] Starting remote function deploy\n",
      "2023-03-06 07:42:18  (info) Deploying function\n",
      "2023-03-06 07:42:18  (info) Building\n",
      "2023-03-06 07:42:18  (info) Staging files and preparing base images\n",
      "2023-03-06 07:42:18  (info) Building processor image\n",
      "2023-03-06 07:43:08  (info) Build complete\n",
      "2023-03-06 07:43:22  (info) Function deploy complete\n",
      "> 2023-03-06 07:43:29,210 [info] successfully deployed function: {'internal_invocation_urls': ['nuclio-remote-artifacts-normal-user-serving.default-tenant.svc.cluster.local:8080'], 'external_invocation_urls': ['remote-artifacts-normal-user-serving-remote-artifacts-jg08pn78.default-tenant.app.vmdev92.lab.iguazeng.com/']}\n"
     ]
    },
    {
     "data": {
      "text/html": [
       "<h2>Run Results</h2><h3>[info] pipeline run finished, state=Succeeded</h3><br>click the hyper links below to see detailed results<br><table border=\"1\" class=\"dataframe\">\n",
       "  <thead>\n",
       "    <tr style=\"text-align: right;\">\n",
       "      <th>uid</th>\n",
       "      <th>start</th>\n",
       "      <th>state</th>\n",
       "      <th>name</th>\n",
       "      <th>parameters</th>\n",
       "      <th>results</th>\n",
       "    </tr>\n",
       "  </thead>\n",
       "  <tbody>\n",
       "    <tr>\n",
       "      <td><div title=\"a3e7aca978e543d4bd67ab7b6bb93617\"><a href=\"https://dashboard.default-tenant.app.vmdev92.lab.iguazeng.com/mlprojects/remote-artifacts-normal-user/jobs/monitor/a3e7aca978e543d4bd67ab7b6bb93617/overview\" target=\"_blank\" >...6bb93617</a></div></td>\n",
       "      <td>Mar 06 07:41:56</td>\n",
       "      <td>completed</td>\n",
       "      <td>log-transactions-log-transactions</td>\n",
       "      <td></td>\n",
       "      <td></td>\n",
       "    </tr>\n",
       "  </tbody>\n",
       "</table>"
      ],
      "text/plain": [
       "<IPython.core.display.HTML object>"
      ]
     },
     "metadata": {},
     "output_type": "display_data"
    },
    {
     "name": "stdout",
     "output_type": "stream",
     "text": [
      "> 2023-03-06 07:43:29,284 [info] started run workflow remote-artifacts-normal-user-iris_workflow with run id = '46e1cfbe5d0542728ab0d79cc93b66bf' by local engine\n"
     ]
    },
    {
     "data": {
      "text/plain": [
       "<mlrun.projects.project.MlrunProject at 0x7fa74cf0fd10>"
      ]
     },
     "execution_count": 9,
     "metadata": {},
     "output_type": "execute_result"
    }
   ],
   "source": [
    "# Running with S3\n",
    "project.run(name=workflow_name,watch=True, local=True, artifact_path=project.artifact_path)\n",
    "project.save()"
   ]
  },
  {
   "cell_type": "code",
   "execution_count": 10,
   "id": "2c2e38e7",
   "metadata": {},
   "outputs": [
    {
     "data": {
      "text/html": [
       "Pipeline started in project remote-artifacts-normal-user id=db73332bb0a04d978c0139aade1cbd56<div><a href=\"https://dashboard.default-tenant.app.vmdev92.lab.iguazeng.com/mlprojects/remote-artifacts-normal-user/jobs\" target=\"_blank\">click here to view progress</a></div>"
      ],
      "text/plain": [
       "<IPython.core.display.HTML object>"
      ]
     },
     "metadata": {},
     "output_type": "display_data"
    },
    {
     "name": "stdout",
     "output_type": "stream",
     "text": [
      "> 2023-03-06 07:43:29,540 [warning] it is recommended to use k8s secret (specify secret_name), specifying the aws_access_key/aws_secret_key directly is unsafe\n",
      "> 2023-03-06 07:43:29,550 [info] starting run log-transactions-log-transactions uid=46d99172631d4ed2b8b6e76afad53920 DB=http://mlrun-api:8080\n",
      "> 2023-03-06 07:43:30,786 [info] encoded dataframe shape : (150, 4)\n",
      "> 2023-03-06 07:43:32,381 [info] logged model : <class 'xgboost.sklearn.XGBClassifier'>\n",
      "> 2023-03-06 07:43:34,328 [info] logged dataset shape (150, 5)\n"
     ]
    },
    {
     "data": {
      "text/html": [
       "<style>\n",
       ".dictlist {\n",
       "  background-color: #4EC64B;\n",
       "  text-align: center;\n",
       "  margin: 4px;\n",
       "  border-radius: 3px; padding: 0px 3px 1px 3px; display: inline-block;}\n",
       ".artifact {\n",
       "  cursor: pointer;\n",
       "  background-color: #4EC64B;\n",
       "  text-align: left;\n",
       "  margin: 4px; border-radius: 3px; padding: 0px 3px 1px 3px; display: inline-block;\n",
       "}\n",
       "div.block.hidden {\n",
       "  display: none;\n",
       "}\n",
       ".clickable {\n",
       "  cursor: pointer;\n",
       "}\n",
       ".ellipsis {\n",
       "  display: inline-block;\n",
       "  max-width: 60px;\n",
       "  white-space: nowrap;\n",
       "  overflow: hidden;\n",
       "  text-overflow: ellipsis;\n",
       "}\n",
       ".master-wrapper {\n",
       "  display: flex;\n",
       "  flex-flow: row nowrap;\n",
       "  justify-content: flex-start;\n",
       "  align-items: stretch;\n",
       "}\n",
       ".master-tbl {\n",
       "  flex: 3\n",
       "}\n",
       ".master-wrapper > div {\n",
       "  margin: 4px;\n",
       "  padding: 10px;\n",
       "}\n",
       "iframe.fileview {\n",
       "  border: 0 none;\n",
       "  height: 100%;\n",
       "  width: 100%;\n",
       "  white-space: pre-wrap;\n",
       "}\n",
       ".pane-header-title {\n",
       "  width: 80%;\n",
       "  font-weight: 500;\n",
       "}\n",
       ".pane-header {\n",
       "  line-height: 1;\n",
       "  background-color: #4EC64B;\n",
       "  padding: 3px;\n",
       "}\n",
       ".pane-header .close {\n",
       "  font-size: 20px;\n",
       "  font-weight: 700;\n",
       "  float: right;\n",
       "  margin-top: -5px;\n",
       "}\n",
       ".master-wrapper .right-pane {\n",
       "  border: 1px inset silver;\n",
       "  width: 40%;\n",
       "  min-height: 300px;\n",
       "  flex: 3\n",
       "  min-width: 500px;\n",
       "}\n",
       ".master-wrapper * {\n",
       "  box-sizing: border-box;\n",
       "}\n",
       "</style><script>\n",
       "function copyToClipboard(fld) {\n",
       "    if (document.queryCommandSupported && document.queryCommandSupported('copy')) {\n",
       "        var textarea = document.createElement('textarea');\n",
       "        textarea.textContent = fld.innerHTML;\n",
       "        textarea.style.position = 'fixed';\n",
       "        document.body.appendChild(textarea);\n",
       "        textarea.select();\n",
       "\n",
       "        try {\n",
       "            return document.execCommand('copy'); // Security exception may be thrown by some browsers.\n",
       "        } catch (ex) {\n",
       "\n",
       "        } finally {\n",
       "            document.body.removeChild(textarea);\n",
       "        }\n",
       "    }\n",
       "}\n",
       "function expandPanel(el) {\n",
       "  const panelName = \"#\" + el.getAttribute('paneName');\n",
       "  console.log(el.title);\n",
       "\n",
       "  document.querySelector(panelName + \"-title\").innerHTML = el.title\n",
       "  iframe = document.querySelector(panelName + \"-body\");\n",
       "\n",
       "  const tblcss = `<style> body { font-family: Arial, Helvetica, sans-serif;}\n",
       "    #csv { margin-bottom: 15px; }\n",
       "    #csv table { border-collapse: collapse;}\n",
       "    #csv table td { padding: 4px 8px; border: 1px solid silver;} </style>`;\n",
       "\n",
       "  function csvToHtmlTable(str) {\n",
       "    return '<div id=\"csv\"><table><tr><td>' +  str.replace(/[\\n\\r]+$/g, '').replace(/[\\n\\r]+/g, '</td></tr><tr><td>')\n",
       "      .replace(/,/g, '</td><td>') + '</td></tr></table></div>';\n",
       "  }\n",
       "\n",
       "  function reqListener () {\n",
       "    if (el.title.endsWith(\".csv\")) {\n",
       "      iframe.setAttribute(\"srcdoc\", tblcss + csvToHtmlTable(this.responseText));\n",
       "    } else {\n",
       "      iframe.setAttribute(\"srcdoc\", this.responseText);\n",
       "    }\n",
       "    console.log(this.responseText);\n",
       "  }\n",
       "\n",
       "  const oReq = new XMLHttpRequest();\n",
       "  oReq.addEventListener(\"load\", reqListener);\n",
       "  oReq.open(\"GET\", el.title);\n",
       "  oReq.send();\n",
       "\n",
       "\n",
       "  //iframe.src = el.title;\n",
       "  const resultPane = document.querySelector(panelName + \"-pane\");\n",
       "  if (resultPane.classList.contains(\"hidden\")) {\n",
       "    resultPane.classList.remove(\"hidden\");\n",
       "  }\n",
       "}\n",
       "function closePanel(el) {\n",
       "  const panelName = \"#\" + el.getAttribute('paneName')\n",
       "  const resultPane = document.querySelector(panelName + \"-pane\");\n",
       "  if (!resultPane.classList.contains(\"hidden\")) {\n",
       "    resultPane.classList.add(\"hidden\");\n",
       "  }\n",
       "}\n",
       "\n",
       "</script>\n",
       "<div class=\"master-wrapper\">\n",
       "  <div class=\"block master-tbl\"><div>\n",
       "<style scoped>\n",
       "    .dataframe tbody tr th:only-of-type {\n",
       "        vertical-align: middle;\n",
       "    }\n",
       "\n",
       "    .dataframe tbody tr th {\n",
       "        vertical-align: top;\n",
       "    }\n",
       "\n",
       "    .dataframe thead th {\n",
       "        text-align: right;\n",
       "    }\n",
       "</style>\n",
       "<table border=\"1\" class=\"dataframe\">\n",
       "  <thead>\n",
       "    <tr style=\"text-align: right;\">\n",
       "      <th>project</th>\n",
       "      <th>uid</th>\n",
       "      <th>iter</th>\n",
       "      <th>start</th>\n",
       "      <th>state</th>\n",
       "      <th>name</th>\n",
       "      <th>labels</th>\n",
       "      <th>inputs</th>\n",
       "      <th>parameters</th>\n",
       "      <th>results</th>\n",
       "      <th>artifacts</th>\n",
       "    </tr>\n",
       "  </thead>\n",
       "  <tbody>\n",
       "    <tr>\n",
       "      <td>remote-artifacts-normal-user</td>\n",
       "      <td><div title=\"46d99172631d4ed2b8b6e76afad53920\"><a href=\"https://dashboard.default-tenant.app.vmdev92.lab.iguazeng.com/mlprojects/remote-artifacts-normal-user/jobs/monitor/46d99172631d4ed2b8b6e76afad53920/overview\" target=\"_blank\" >...fad53920</a></div></td>\n",
       "      <td>0</td>\n",
       "      <td>Mar 06 07:43:29</td>\n",
       "      <td>completed</td>\n",
       "      <td>log-transactions-log-transactions</td>\n",
       "      <td><div class=\"dictlist\">workflow=db73332bb0a04d978c0139aade1cbd56</div><div class=\"dictlist\">v3io_user=normal-user</div><div class=\"dictlist\">kind=</div><div class=\"dictlist\">owner=normal-user</div><div class=\"dictlist\">host=jupyter-v5afxg4hcf-at3sd-77c89bbcd5-svv9f</div></td>\n",
       "      <td></td>\n",
       "      <td></td>\n",
       "      <td></td>\n",
       "      <td><div title=\"gs://testbucket-igz/remote-artifacts/log-transactions-log-transactions/0/encoded_iris-gs.csv\">encoded_iris-gs</div><div title=\"gs://testbucket-igz/remote-artifacts/log-transactions-log-transactions/0/clf_model/\">clf_model</div><div title=\"gs://testbucket-igz/remote-artifacts/\">my_project</div><div title=\"gs://testbucket-igz/remote-artifacts/log-transactions-log-transactions/0/iris_dataset-gs.csv\">iris_dataset-gs</div></td>\n",
       "    </tr>\n",
       "  </tbody>\n",
       "</table>\n",
       "</div></div>\n",
       "  <div id=\"result38320ae5-pane\" class=\"right-pane block hidden\">\n",
       "    <div class=\"pane-header\">\n",
       "      <span id=\"result38320ae5-title\" class=\"pane-header-title\">Title</span>\n",
       "      <span onclick=\"closePanel(this)\" paneName=\"result38320ae5\" class=\"close clickable\">&times;</span>\n",
       "    </div>\n",
       "    <iframe class=\"fileview\" id=\"result38320ae5-body\"></iframe>\n",
       "  </div>\n",
       "</div>\n"
      ],
      "text/plain": [
       "<IPython.core.display.HTML object>"
      ]
     },
     "metadata": {},
     "output_type": "display_data"
    },
    {
     "name": "stdout",
     "output_type": "stream",
     "text": [
      "\n"
     ]
    },
    {
     "data": {
      "text/html": [
       "<b> > to track results use the .show() or .logs() methods  or <a href=\"https://dashboard.default-tenant.app.vmdev92.lab.iguazeng.com/mlprojects/remote-artifacts-normal-user/jobs/monitor/46d99172631d4ed2b8b6e76afad53920/overview\" target=\"_blank\">click here</a> to open in UI</b>"
      ],
      "text/plain": [
       "<IPython.core.display.HTML object>"
      ]
     },
     "metadata": {},
     "output_type": "display_data"
    },
    {
     "name": "stdout",
     "output_type": "stream",
     "text": [
      "> 2023-03-06 07:43:34,516 [info] run executed, status=completed\n",
      "> 2023-03-06 07:43:34,548 [info] Starting remote function deploy\n",
      "2023-03-06 07:43:34  (info) Deploying function\n",
      "2023-03-06 07:43:34  (info) Building\n",
      "2023-03-06 07:43:34  (info) Staging files and preparing base images\n",
      "2023-03-06 07:43:34  (info) Building processor image\n",
      "2023-03-06 07:44:21  (info) Build complete\n",
      "2023-03-06 07:44:33  (info) Function deploy complete\n",
      "> 2023-03-06 07:44:35,293 [info] successfully deployed function: {'internal_invocation_urls': ['nuclio-remote-artifacts-normal-user-serving.default-tenant.svc.cluster.local:8080'], 'external_invocation_urls': ['remote-artifacts-normal-user-serving-remote-artifacts-yoy50axc.default-tenant.app.vmdev92.lab.iguazeng.com/']}\n"
     ]
    },
    {
     "data": {
      "text/html": [
       "<h2>Run Results</h2><h3>[info] pipeline run finished, state=Succeeded</h3><br>click the hyper links below to see detailed results<br><table border=\"1\" class=\"dataframe\">\n",
       "  <thead>\n",
       "    <tr style=\"text-align: right;\">\n",
       "      <th>uid</th>\n",
       "      <th>start</th>\n",
       "      <th>state</th>\n",
       "      <th>name</th>\n",
       "      <th>parameters</th>\n",
       "      <th>results</th>\n",
       "    </tr>\n",
       "  </thead>\n",
       "  <tbody>\n",
       "    <tr>\n",
       "      <td><div title=\"46d99172631d4ed2b8b6e76afad53920\"><a href=\"https://dashboard.default-tenant.app.vmdev92.lab.iguazeng.com/mlprojects/remote-artifacts-normal-user/jobs/monitor/46d99172631d4ed2b8b6e76afad53920/overview\" target=\"_blank\" >...fad53920</a></div></td>\n",
       "      <td>Mar 06 07:43:29</td>\n",
       "      <td>completed</td>\n",
       "      <td>log-transactions-log-transactions</td>\n",
       "      <td></td>\n",
       "      <td></td>\n",
       "    </tr>\n",
       "  </tbody>\n",
       "</table>"
      ],
      "text/plain": [
       "<IPython.core.display.HTML object>"
      ]
     },
     "metadata": {},
     "output_type": "display_data"
    },
    {
     "name": "stdout",
     "output_type": "stream",
     "text": [
      "> 2023-03-06 07:44:35,370 [info] started run workflow remote-artifacts-normal-user-iris_workflow with run id = 'db73332bb0a04d978c0139aade1cbd56' by local engine\n"
     ]
    },
    {
     "data": {
      "text/plain": [
       "db73332bb0a04d978c0139aade1cbd56"
      ]
     },
     "execution_count": 10,
     "metadata": {},
     "output_type": "execute_result"
    }
   ],
   "source": [
    "# Running with GCS\n",
    "project.run(name=workflow_name,watch=True, local=True, artifact_path='gs' + project.artifact_path[2:])"
   ]
  }
 ],
 "metadata": {
  "kernelspec": {
   "display_name": "Python 3",
   "language": "python",
   "name": "python3"
  },
  "language_info": {
   "codemirror_mode": {
    "name": "ipython",
    "version": 3
   },
   "file_extension": ".py",
   "mimetype": "text/x-python",
   "name": "python",
   "nbconvert_exporter": "python",
   "pygments_lexer": "ipython3",
   "version": "3.7.6"
  }
 },
 "nbformat": 4,
 "nbformat_minor": 5
}
