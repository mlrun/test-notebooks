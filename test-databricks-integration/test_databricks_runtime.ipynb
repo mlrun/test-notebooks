{
 "cells": [
  {
   "cell_type": "markdown",
   "id": "6f9f96dd-2a37-493b-b46f-48ca4bede0ce",
   "metadata": {},
   "source": [
    "## Test Submit a MLRUN job that will run on Databricks Spark"
   ]
  },
  {
   "cell_type": "code",
   "execution_count": 1,
   "id": "b96e195c-ed38-480c-8ffb-55b0d190e9eb",
   "metadata": {},
   "outputs": [
    {
     "name": "stdout",
     "output_type": "stream",
     "text": [
      "1.5.1\n"
     ]
    }
   ],
   "source": [
    "import os\n",
    "import pandas as pd\n",
    "import mlrun\n",
    "from mlrun.datastore.sources import ParquetSource\n",
    "print(mlrun.__version__)"
   ]
  },
  {
   "cell_type": "markdown",
   "id": "5076e367-70b7-4bc5-a949-1bd783e5fd26",
   "metadata": {},
   "source": [
    "### Copy the template.env to test.env and edit your test.env to fill in the env info"
   ]
  },
  {
   "cell_type": "code",
   "execution_count": 2,
   "id": "875c7252-8cb4-4295-8c22-7ace9ac83c75",
   "metadata": {},
   "outputs": [],
   "source": [
    "from dotenv import load_dotenv, find_dotenv\n",
    "_ = load_dotenv(find_dotenv(\"test.env\"))"
   ]
  },
  {
   "cell_type": "markdown",
   "id": "abdf057e-b757-492e-ab1b-5d4c608a8b90",
   "metadata": {},
   "source": [
    "### Define fine path"
   ]
  },
  {
   "cell_type": "code",
   "execution_count": 3,
   "id": "b3cd83b4-bd68-4a3b-8e68-95f30d380f1c",
   "metadata": {},
   "outputs": [],
   "source": [
    "code_path='./get_stats.py'\n",
    "dbfs_data_path = \"dbfs:///music_demo_1/music_data.parquet\"\n",
    "dbfs_stats_path = \"dbfs:///music_demo_1/music_stats.parquet\""
   ]
  },
  {
   "cell_type": "markdown",
   "id": "d7ae9b04-0419-4ea2-b233-9903d00b08e3",
   "metadata": {},
   "source": [
    "### Create a project and set the project secrets"
   ]
  },
  {
   "cell_type": "code",
   "execution_count": 4,
   "id": "3aa2225e-d052-4d1f-a0f4-e968865db4ef",
   "metadata": {},
   "outputs": [
    {
     "name": "stdout",
     "output_type": "stream",
     "text": [
      "> 2023-11-30 18:25:27,714 [info] Project loaded successfully: {'project_name': 'databricks-proj'}\n"
     ]
    }
   ],
   "source": [
    "# setup project and secrets\n",
    "project = mlrun.get_or_create_project(\n",
    "    \"databricks-proj\"\n",
    ")"
   ]
  },
  {
   "cell_type": "code",
   "execution_count": 5,
   "id": "cdd6e880-e5ba-488f-8c72-c9774e6112e1",
   "metadata": {},
   "outputs": [],
   "source": [
    "project.set_secrets(file_path=\"./.env\")"
   ]
  },
  {
   "cell_type": "code",
   "execution_count": 6,
   "id": "0d75f857-7b90-4e29-9cf9-fd1d0e734885",
   "metadata": {},
   "outputs": [],
   "source": [
    "job_env = {\n",
    "    \"DATABRICKS_HOST\": os.environ[\"DATABRICKS_HOST\"],\n",
    "    \"DATABRICKS_CLUSTER_ID\": os.environ.get(\"DATABRICKS_CLUSTER_ID\")\n",
    "}"
   ]
  },
  {
   "cell_type": "markdown",
   "id": "79711b3d-87da-44ca-9dbf-fd8fccdbee04",
   "metadata": {},
   "source": [
    "### Mock up some data"
   ]
  },
  {
   "cell_type": "code",
   "execution_count": 7,
   "id": "a64b0e9e-e126-4b7e-ba82-e54f12de77f8",
   "metadata": {},
   "outputs": [],
   "source": [
    "# create df\n",
    "columns = [\"id\", \"name\", \"age\", \"favorite_music_type\"]\n",
    "data = [\n",
    "    (1, \"Alice\", 20, \"Pop\"),\n",
    "    (2, \"Bob\", 30, \"Rock\"),\n",
    "    (3, \"Charlie\", 25, \"Pop\"),\n",
    "    (4, \"David\", 40, \"Classical\"),\n",
    "    (5, \"Eva\", 18, \"Pop\"),\n",
    "    (6, \"Frank\", 32, \"Rock\"),\n",
    "    (7, \"Grace\", 28, \"Pop\"),\n",
    "    (8, \"Henry\", 45, \"Classical\"),\n",
    "    (9, \"Ivy\", 22, \"Pop\"),\n",
    "    (10, \"Jack\", 38, \"Classical\"),\n",
    "    (11, \"Karen\", 27, \"Pop\"),\n",
    "    (12, \"Liam\", 19, \"Pop\"),\n",
    "    (13, \"Mia\", 27, \"Rock\"),\n",
    "    (14, \"Nora\", 31, \"Rock\"),\n",
    "    (15, \"Oliver\", 29, \"Pop\"),\n",
    "    (16, \"Ben\", 38, \"Pop\")\n",
    "]\n",
    "df = pd.DataFrame(data, columns=columns)"
   ]
  },
  {
   "cell_type": "markdown",
   "id": "d7dafb88-d3fc-441a-a33c-069efc74f950",
   "metadata": {},
   "source": [
    "### Create a MLRUN function"
   ]
  },
  {
   "cell_type": "code",
   "execution_count": 8,
   "id": "325d3dbd-4624-4ca0-9a97-cc38054d2ae8",
   "metadata": {},
   "outputs": [
    {
     "name": "stdout",
     "output_type": "stream",
     "text": [
      "Overwriting get_stats.py\n"
     ]
    }
   ],
   "source": [
    "%%writefile get_stats.py\n",
    "#  Here is an example of Spark processing.\n",
    "from pyspark.sql import SparkSession\n",
    "from pyspark.sql.functions import avg, min, max\n",
    "import pandas as pd\n",
    "import json\n",
    "\n",
    "def main(data: str, data_output_path: str, stats_output_path: str):\n",
    "    spark = SparkSession.builder.appName(\"MusicDemo\").getOrCreate()\n",
    "    json_dict = json.loads(data)\n",
    "    pandas_df = pd.DataFrame(json_dict)\n",
    "    spark_df = spark.createDataFrame(pandas_df)\n",
    "    spark_df.write.mode(\"overwrite\").parquet(data_output_path)\n",
    "    music_stats = spark_df.groupBy(\"favorite_music_type\").agg(\n",
    "        avg(\"age\").alias(\"avg_age\"),\n",
    "        min(\"age\").alias(\"min_age\"),\n",
    "        max(\"age\").alias(\"max_age\")\n",
    "    )\n",
    "    music_stats.write.mode(\"overwrite\").parquet(stats_output_path)\n",
    "    music_stats.show()"
   ]
  },
  {
   "cell_type": "code",
   "execution_count": 9,
   "id": "dcacc7a0-28ff-4b6a-9f75-37f2c2a7bbb9",
   "metadata": {},
   "outputs": [],
   "source": [
    "# function build and run.\n",
    "function = mlrun.code_to_function(\n",
    "            name=\"music_demo\",\n",
    "            kind=\"databricks\",\n",
    "            filename=code_path,\n",
    "            image=\"mlrun/mlrun\",\n",
    "            # image=\"tomermamia855/mlrun-api:fix_dbfs_pod_tab\",\n",
    "        )\n",
    "\n",
    "for name, val in job_env.items():\n",
    "    function.spec.env.append({\"name\": name, \"value\": val})\n",
    "    \n",
    "params = {\n",
    "    \"task_parameters\": {\"timeout_minutes\": 15},\n",
    "    \"data\": df.to_json(),\n",
    "    \"data_output_path\": dbfs_data_path,\n",
    "    \"stats_output_path\": dbfs_stats_path,\n",
    "}"
   ]
  },
  {
   "cell_type": "markdown",
   "id": "3f0ccbda-6dee-4265-9211-609c58183209",
   "metadata": {},
   "source": [
    "### Run the mlrun function, which deligate the Spark job to Databricks clusetr"
   ]
  },
  {
   "cell_type": "code",
   "execution_count": 10,
   "id": "70878d72-4832-488e-b81b-0e9ead4c1480",
   "metadata": {},
   "outputs": [
    {
     "name": "stdout",
     "output_type": "stream",
     "text": [
      "> 2023-11-30 18:25:27,973 [info] Storing function: {'name': 'music-demo-main', 'uid': 'd90adf3978ce43b8ba78c5565b9df3a5', 'db': 'http://mlrun-api:8080'}\n",
      "> 2023-11-30 18:25:28,501 [info] Job is running in the background, pod: music-demo-main-5nt5w\n",
      "> 2023-11-30 18:25:34,400 [info] run with exists cluster_id: 1116-014038-st5lherj\n",
      "> 2023-11-30 18:25:34,614 [info] starting to poll: 605976299807721\n",
      "> 2023-11-30 18:25:34,660 [info] workflow intermediate status: mlrun_task_75a4cc70-4414-4293-8a39-e7eeabb4ba24: RunLifeCycleState.PENDING\n",
      "> 2023-11-30 18:25:36,093 [info] workflow intermediate status: mlrun_task_75a4cc70-4414-4293-8a39-e7eeabb4ba24: RunLifeCycleState.PENDING\n",
      "> 2023-11-30 18:25:38,663 [info] workflow intermediate status: mlrun_task_75a4cc70-4414-4293-8a39-e7eeabb4ba24: RunLifeCycleState.PENDING\n",
      "> 2023-11-30 18:25:41,997 [info] workflow intermediate status: mlrun_task_75a4cc70-4414-4293-8a39-e7eeabb4ba24: RunLifeCycleState.PENDING\n",
      "> 2023-11-30 18:25:46,358 [info] workflow intermediate status: mlrun_task_75a4cc70-4414-4293-8a39-e7eeabb4ba24: RunLifeCycleState.PENDING\n",
      "> 2023-11-30 18:25:52,025 [info] workflow intermediate status: mlrun_task_75a4cc70-4414-4293-8a39-e7eeabb4ba24: RunLifeCycleState.PENDING\n",
      "> 2023-11-30 18:25:58,845 [info] workflow intermediate status: mlrun_task_75a4cc70-4414-4293-8a39-e7eeabb4ba24: RunLifeCycleState.PENDING\n",
      "> 2023-11-30 18:26:06,273 [info] workflow intermediate status: mlrun_task_75a4cc70-4414-4293-8a39-e7eeabb4ba24: RunLifeCycleState.PENDING\n",
      "> 2023-11-30 18:26:15,296 [info] workflow intermediate status: mlrun_task_75a4cc70-4414-4293-8a39-e7eeabb4ba24: RunLifeCycleState.PENDING\n",
      "> 2023-11-30 18:26:25,114 [info] workflow intermediate status: mlrun_task_75a4cc70-4414-4293-8a39-e7eeabb4ba24: RunLifeCycleState.PENDING\n",
      "> 2023-11-30 18:26:35,704 [info] workflow intermediate status: mlrun_task_75a4cc70-4414-4293-8a39-e7eeabb4ba24: RunLifeCycleState.PENDING\n",
      "> 2023-11-30 18:26:45,818 [info] workflow intermediate status: mlrun_task_75a4cc70-4414-4293-8a39-e7eeabb4ba24: RunLifeCycleState.PENDING\n",
      "> 2023-11-30 18:26:56,578 [info] workflow intermediate status: mlrun_task_75a4cc70-4414-4293-8a39-e7eeabb4ba24: RunLifeCycleState.PENDING\n",
      "> 2023-11-30 18:27:06,751 [info] workflow intermediate status: mlrun_task_75a4cc70-4414-4293-8a39-e7eeabb4ba24: RunLifeCycleState.PENDING\n",
      "> 2023-11-30 18:27:16,900 [info] workflow intermediate status: mlrun_task_75a4cc70-4414-4293-8a39-e7eeabb4ba24: RunLifeCycleState.PENDING\n",
      "> 2023-11-30 18:27:27,038 [info] workflow intermediate status: mlrun_task_75a4cc70-4414-4293-8a39-e7eeabb4ba24: RunLifeCycleState.PENDING\n",
      "> 2023-11-30 18:27:37,762 [info] workflow intermediate status: mlrun_task_75a4cc70-4414-4293-8a39-e7eeabb4ba24: RunLifeCycleState.PENDING\n",
      "> 2023-11-30 18:27:47,931 [info] workflow intermediate status: mlrun_task_75a4cc70-4414-4293-8a39-e7eeabb4ba24: RunLifeCycleState.PENDING\n",
      "> 2023-11-30 18:27:58,598 [info] workflow intermediate status: mlrun_task_75a4cc70-4414-4293-8a39-e7eeabb4ba24: RunLifeCycleState.PENDING\n",
      "> 2023-11-30 18:28:09,274 [info] workflow intermediate status: mlrun_task_75a4cc70-4414-4293-8a39-e7eeabb4ba24: RunLifeCycleState.PENDING\n",
      "> 2023-11-30 18:28:19,644 [info] workflow intermediate status: mlrun_task_75a4cc70-4414-4293-8a39-e7eeabb4ba24: RunLifeCycleState.PENDING\n",
      "> 2023-11-30 18:28:30,546 [info] workflow intermediate status: mlrun_task_75a4cc70-4414-4293-8a39-e7eeabb4ba24: RunLifeCycleState.PENDING\n",
      "> 2023-11-30 18:28:41,530 [info] workflow intermediate status: mlrun_task_75a4cc70-4414-4293-8a39-e7eeabb4ba24: RunLifeCycleState.PENDING\n",
      "> 2023-11-30 18:28:52,066 [info] workflow intermediate status: mlrun_task_75a4cc70-4414-4293-8a39-e7eeabb4ba24: RunLifeCycleState.PENDING\n",
      "> 2023-11-30 18:29:02,393 [info] workflow intermediate status: mlrun_task_75a4cc70-4414-4293-8a39-e7eeabb4ba24: RunLifeCycleState.PENDING\n",
      "> 2023-11-30 18:29:12,991 [info] workflow intermediate status: mlrun_task_75a4cc70-4414-4293-8a39-e7eeabb4ba24: RunLifeCycleState.PENDING\n",
      "> 2023-11-30 18:29:23,288 [info] workflow intermediate status: mlrun_task_75a4cc70-4414-4293-8a39-e7eeabb4ba24: RunLifeCycleState.PENDING\n",
      "> 2023-11-30 18:29:34,132 [info] workflow intermediate status: mlrun_task_75a4cc70-4414-4293-8a39-e7eeabb4ba24: RunLifeCycleState.PENDING\n",
      "> 2023-11-30 18:29:44,892 [info] workflow intermediate status: mlrun_task_75a4cc70-4414-4293-8a39-e7eeabb4ba24: RunLifeCycleState.PENDING\n",
      "> 2023-11-30 18:29:55,488 [info] workflow intermediate status: mlrun_task_75a4cc70-4414-4293-8a39-e7eeabb4ba24: RunLifeCycleState.PENDING\n",
      "> 2023-11-30 18:30:06,481 [info] workflow intermediate status: mlrun_task_75a4cc70-4414-4293-8a39-e7eeabb4ba24: RunLifeCycleState.PENDING\n",
      "> 2023-11-30 18:30:17,024 [info] workflow intermediate status: mlrun_task_75a4cc70-4414-4293-8a39-e7eeabb4ba24: RunLifeCycleState.PENDING\n",
      "> 2023-11-30 18:30:27,591 [info] workflow intermediate status: mlrun_task_75a4cc70-4414-4293-8a39-e7eeabb4ba24: RunLifeCycleState.PENDING\n",
      "> 2023-11-30 18:30:37,819 [info] workflow intermediate status: mlrun_task_75a4cc70-4414-4293-8a39-e7eeabb4ba24: RunLifeCycleState.PENDING\n",
      "> 2023-11-30 18:30:48,651 [info] workflow intermediate status: mlrun_task_75a4cc70-4414-4293-8a39-e7eeabb4ba24: RunLifeCycleState.PENDING\n",
      "> 2023-11-30 18:30:59,649 [info] workflow intermediate status: mlrun_task_75a4cc70-4414-4293-8a39-e7eeabb4ba24: RunLifeCycleState.RUNNING\n",
      "> 2023-11-30 18:31:10,216 [info] workflow intermediate status: mlrun_task_75a4cc70-4414-4293-8a39-e7eeabb4ba24: RunLifeCycleState.RUNNING\n",
      "> 2023-11-30 18:31:20,902 [info] workflow intermediate status: mlrun_task_75a4cc70-4414-4293-8a39-e7eeabb4ba24: RunLifeCycleState.RUNNING\n",
      "> 2023-11-30 18:31:31,221 [info] workflow intermediate status: mlrun_task_75a4cc70-4414-4293-8a39-e7eeabb4ba24: RunLifeCycleState.RUNNING\n",
      "> 2023-11-30 18:31:41,379 [info] workflow intermediate status: mlrun_task_75a4cc70-4414-4293-8a39-e7eeabb4ba24: RunLifeCycleState.RUNNING\n",
      "> 2023-11-30 18:31:53,057 [info] job finished: https://dbc-94c947ab-feb9.cloud.databricks.com/?o=4658245941722457#job/52302675431099/run/605976299807721\n",
      "> 2023-11-30 18:31:53,057 [info] logs:\n",
      "+-------------------+-----------------+-------+-------+\n",
      "|favorite_music_type|          avg_age|min_age|max_age|\n",
      "+-------------------+-----------------+-------+-------+\n",
      "|               Rock|             30.0|     27|     32|\n",
      "|          Classical|             41.0|     38|     45|\n",
      "|                Pop|25.11111111111111|     18|     38|\n",
      "+-------------------+-----------------+-------+-------+\n",
      "\n",
      "\n",
      "> 2023-11-30 18:31:55,189 [info] Run execution finished: {'status': 'completed', 'name': 'music-demo-main'}\n"
     ]
    },
    {
     "data": {
      "text/html": [
       "<style>\n",
       ".dictlist {\n",
       "  background-color: #4EC64B;\n",
       "  text-align: center;\n",
       "  margin: 4px;\n",
       "  border-radius: 3px; padding: 0px 3px 1px 3px; display: inline-block;}\n",
       ".artifact {\n",
       "  cursor: pointer;\n",
       "  background-color: #4EC64B;\n",
       "  text-align: left;\n",
       "  margin: 4px; border-radius: 3px; padding: 0px 3px 1px 3px; display: inline-block;\n",
       "}\n",
       "div.block.hidden {\n",
       "  display: none;\n",
       "}\n",
       ".clickable {\n",
       "  cursor: pointer;\n",
       "}\n",
       ".ellipsis {\n",
       "  display: inline-block;\n",
       "  max-width: 60px;\n",
       "  white-space: nowrap;\n",
       "  overflow: hidden;\n",
       "  text-overflow: ellipsis;\n",
       "}\n",
       ".master-wrapper {\n",
       "  display: flex;\n",
       "  flex-flow: row nowrap;\n",
       "  justify-content: flex-start;\n",
       "  align-items: stretch;\n",
       "}\n",
       ".master-tbl {\n",
       "  flex: 3\n",
       "}\n",
       ".master-wrapper > div {\n",
       "  margin: 4px;\n",
       "  padding: 10px;\n",
       "}\n",
       "iframe.fileview {\n",
       "  border: 0 none;\n",
       "  height: 100%;\n",
       "  width: 100%;\n",
       "  white-space: pre-wrap;\n",
       "}\n",
       ".pane-header-title {\n",
       "  width: 80%;\n",
       "  font-weight: 500;\n",
       "}\n",
       ".pane-header {\n",
       "  line-height: 1;\n",
       "  background-color: #4EC64B;\n",
       "  padding: 3px;\n",
       "}\n",
       ".pane-header .close {\n",
       "  font-size: 20px;\n",
       "  font-weight: 700;\n",
       "  float: right;\n",
       "  margin-top: -5px;\n",
       "}\n",
       ".master-wrapper .right-pane {\n",
       "  border: 1px inset silver;\n",
       "  width: 40%;\n",
       "  min-height: 300px;\n",
       "  flex: 3\n",
       "  min-width: 500px;\n",
       "}\n",
       ".master-wrapper * {\n",
       "  box-sizing: border-box;\n",
       "}\n",
       "</style><script>\n",
       "function copyToClipboard(fld) {\n",
       "    if (document.queryCommandSupported && document.queryCommandSupported('copy')) {\n",
       "        var textarea = document.createElement('textarea');\n",
       "        textarea.textContent = fld.innerHTML;\n",
       "        textarea.style.position = 'fixed';\n",
       "        document.body.appendChild(textarea);\n",
       "        textarea.select();\n",
       "\n",
       "        try {\n",
       "            return document.execCommand('copy'); // Security exception may be thrown by some browsers.\n",
       "        } catch (ex) {\n",
       "\n",
       "        } finally {\n",
       "            document.body.removeChild(textarea);\n",
       "        }\n",
       "    }\n",
       "}\n",
       "function expandPanel(el) {\n",
       "  const panelName = \"#\" + el.getAttribute('paneName');\n",
       "  console.log(el.title);\n",
       "\n",
       "  document.querySelector(panelName + \"-title\").innerHTML = el.title\n",
       "  iframe = document.querySelector(panelName + \"-body\");\n",
       "\n",
       "  const tblcss = `<style> body { font-family: Arial, Helvetica, sans-serif;}\n",
       "    #csv { margin-bottom: 15px; }\n",
       "    #csv table { border-collapse: collapse;}\n",
       "    #csv table td { padding: 4px 8px; border: 1px solid silver;} </style>`;\n",
       "\n",
       "  function csvToHtmlTable(str) {\n",
       "    return '<div id=\"csv\"><table><tr><td>' +  str.replace(/[\\n\\r]+$/g, '').replace(/[\\n\\r]+/g, '</td></tr><tr><td>')\n",
       "      .replace(/,/g, '</td><td>') + '</td></tr></table></div>';\n",
       "  }\n",
       "\n",
       "  function reqListener () {\n",
       "    if (el.title.endsWith(\".csv\")) {\n",
       "      iframe.setAttribute(\"srcdoc\", tblcss + csvToHtmlTable(this.responseText));\n",
       "    } else {\n",
       "      iframe.setAttribute(\"srcdoc\", this.responseText);\n",
       "    }\n",
       "    console.log(this.responseText);\n",
       "  }\n",
       "\n",
       "  const oReq = new XMLHttpRequest();\n",
       "  oReq.addEventListener(\"load\", reqListener);\n",
       "  oReq.open(\"GET\", el.title);\n",
       "  oReq.send();\n",
       "\n",
       "\n",
       "  //iframe.src = el.title;\n",
       "  const resultPane = document.querySelector(panelName + \"-pane\");\n",
       "  if (resultPane.classList.contains(\"hidden\")) {\n",
       "    resultPane.classList.remove(\"hidden\");\n",
       "  }\n",
       "}\n",
       "function closePanel(el) {\n",
       "  const panelName = \"#\" + el.getAttribute('paneName')\n",
       "  const resultPane = document.querySelector(panelName + \"-pane\");\n",
       "  if (!resultPane.classList.contains(\"hidden\")) {\n",
       "    resultPane.classList.add(\"hidden\");\n",
       "  }\n",
       "}\n",
       "\n",
       "</script>\n",
       "<div class=\"master-wrapper\">\n",
       "  <div class=\"block master-tbl\"><div>\n",
       "<style scoped>\n",
       "    .dataframe tbody tr th:only-of-type {\n",
       "        vertical-align: middle;\n",
       "    }\n",
       "\n",
       "    .dataframe tbody tr th {\n",
       "        vertical-align: top;\n",
       "    }\n",
       "\n",
       "    .dataframe thead th {\n",
       "        text-align: right;\n",
       "    }\n",
       "</style>\n",
       "<table border=\"1\" class=\"dataframe\">\n",
       "  <thead>\n",
       "    <tr style=\"text-align: right;\">\n",
       "      <th>project</th>\n",
       "      <th>uid</th>\n",
       "      <th>iter</th>\n",
       "      <th>start</th>\n",
       "      <th>state</th>\n",
       "      <th>name</th>\n",
       "      <th>labels</th>\n",
       "      <th>inputs</th>\n",
       "      <th>parameters</th>\n",
       "      <th>results</th>\n",
       "      <th>artifacts</th>\n",
       "    </tr>\n",
       "  </thead>\n",
       "  <tbody>\n",
       "    <tr>\n",
       "      <td>databricks-proj</td>\n",
       "      <td><div title=\"d90adf3978ce43b8ba78c5565b9df3a5\"><a href=\"https://dashboard.default-tenant.app.task-force-1.iguazio-cd2.com/mlprojects/databricks-proj/jobs/monitor/d90adf3978ce43b8ba78c5565b9df3a5/overview\" target=\"_blank\" >...5b9df3a5</a></div></td>\n",
       "      <td>0</td>\n",
       "      <td>Nov 30 18:25:32</td>\n",
       "      <td>completed</td>\n",
       "      <td>music-demo-main</td>\n",
       "      <td><div class=\"dictlist\">v3io_user=xingsheng</div><div class=\"dictlist\">kind=databricks</div><div class=\"dictlist\">owner=xingsheng</div><div class=\"dictlist\">mlrun/client_version=1.5.1</div><div class=\"dictlist\">mlrun/client_python_version=3.9.16</div><div class=\"dictlist\">host=music-demo-main-5nt5w</div></td>\n",
       "      <td></td>\n",
       "      <td><div class=\"dictlist\">task_parameters={'timeout_minutes': 15, 'spark_app_code': 'CgppbXBvcnQgYXJncGFyc2UKaW1wb3J0IGpzb24KcGFyc2VyID0gYXJncGFyc2UuQXJndW1lbnRQYXJzZXIoKQpwYXJzZXIuYWRkX2FyZ3VtZW50KCdoYW5kbGVyX2FyZ3VtZW50cycpCmhhbmRsZXJfYXJndW1lbnRzID0gcGFyc2VyLnBhcnNlX2FyZ3MoKS5oYW5kbGVyX2FyZ3VtZW50cwpoYW5kbGVyX2FyZ3VtZW50cyA9IGpzb24ubG9hZHMoaGFuZGxlcl9hcmd1bWVudHMpCgojICBIZXJlIGlzIGFuIGV4YW1wbGUgb2YgU3BhcmsgcHJvY2Vzc2luZy4KZnJvbSBweXNwYXJrLnNxbCBpbXBvcnQgU3BhcmtTZXNzaW9uCmZyb20gcHlzcGFyay5zcWwuZnVuY3Rpb25zIGltcG9ydCBhdmcsIG1pbiwgbWF4CmltcG9ydCBwYW5kYXMgYXMgcGQKaW1wb3J0IGpzb24KCmRlZiBtYWluKGRhdGE6IHN0ciwgZGF0YV9vdXRwdXRfcGF0aDogc3RyLCBzdGF0c19vdXRwdXRfcGF0aDogc3RyKToKICAgIHNwYXJrID0gU3BhcmtTZXNzaW9uLmJ1aWxkZXIuYXBwTmFtZSgiTXVzaWNEZW1vIikuZ2V0T3JDcmVhdGUoKQogICAganNvbl9kaWN0ID0ganNvbi5sb2FkcyhkYXRhKQogICAgcGFuZGFzX2RmID0gcGQuRGF0YUZyYW1lKGpzb25fZGljdCkKICAgIHNwYXJrX2RmID0gc3BhcmsuY3JlYXRlRGF0YUZyYW1lKHBhbmRhc19kZikKICAgIHNwYXJrX2RmLndyaXRlLm1vZGUoIm92ZXJ3cml0ZSIpLnBhcnF1ZXQoZGF0YV9vdXRwdXRfcGF0aCkKICAgIG11c2ljX3N0YXRzID0gc3BhcmtfZGYuZ3JvdXBCeSgiZmF2b3JpdGVfbXVzaWNfdHlwZSIpLmFnZygKICAgICAgICBhdmcoImFnZSIpLmFsaWFzKCJhdmdfYWdlIiksCiAgICAgICAgbWluKCJhZ2UiKS5hbGlhcygibWluX2FnZSIpLAogICAgICAgIG1heCgiYWdlIikuYWxpYXMoIm1heF9hZ2UiKQogICAgKQogICAgbXVzaWNfc3RhdHMud3JpdGUubW9kZSgib3ZlcndyaXRlIikucGFycXVldChzdGF0c19vdXRwdXRfcGF0aCkKICAgIG11c2ljX3N0YXRzLnNob3coKQoKbWFpbigqKmhhbmRsZXJfYXJndW1lbnRzKQo=', 'original_handler': 'main'}</div><div class=\"dictlist\">data={\"id\":{\"0\":1,\"1\":2,\"2\":3,\"3\":4,\"4\":5,\"5\":6,\"6\":7,\"7\":8,\"8\":9,\"9\":10,\"10\":11,\"11\":12,\"12\":13,\"13\":14,\"14\":15,\"15\":16},\"name\":{\"0\":\"Alice\",\"1\":\"Bob\",\"2\":\"Charlie\",\"3\":\"David\",\"4\":\"Eva\",\"5\":\"Frank\",\"6\":\"Grace\",\"7\":\"Henry\",\"8\":\"Ivy\",\"9\":\"Jack\",\"10\":\"Karen\",\"11\":\"Liam\",\"12\":\"Mia\",\"13\":\"Nora\",\"14\":\"Oliver\",\"15\":\"Ben\"},\"age\":{\"0\":20,\"1\":30,\"2\":25,\"3\":40,\"4\":18,\"5\":32,\"6\":28,\"7\":45,\"8\":22,\"9\":38,\"10\":27,\"11\":19,\"12\":27,\"13\":31,\"14\":29,\"15\":38},\"favorite_music_type\":{\"0\":\"Pop\",\"1\":\"Rock\",\"2\":\"Pop\",\"3\":\"Classical\",\"4\":\"Pop\",\"5\":\"Rock\",\"6\":\"Pop\",\"7\":\"Classical\",\"8\":\"Pop\",\"9\":\"Classical\",\"10\":\"Pop\",\"11\":\"Pop\",\"12\":\"Rock\",\"13\":\"Rock\",\"14\":\"Pop\",\"15\":\"Pop\"}}</div><div class=\"dictlist\">data_output_path=dbfs:///music_demo_1/music_data.parquet</div><div class=\"dictlist\">stats_output_path=dbfs:///music_demo_1/music_stats.parquet</div></td>\n",
       "      <td><div class=\"dictlist\">databricks_runtime_task={'logs': '+-------------------+-----------------+-------+-------+\\n|favorite_music_type|          avg_age|min_age|max_age|\\n+-------------------+-----------------+-------+-------+\\n|               Rock|             30.0|     27|     32|\\n|          Classical|             41.0|     38|     45|\\n|                Pop|25.11111111111111|     18|     38|\\n+-------------------+-----------------+-------+-------+\\n\\n', 'logs_truncated': False, 'metadata': {'cleanup_duration': 0, 'creator_user_name': 'xingsheng_qian@mckinsey.com', 'end_time': 1701369103554, 'execution_duration': 51000, 'job_id': 52302675431099, 'number_in_job': 656206320040153, 'run_id': 656206320040153, 'run_name': 'mlrun_task_75a4cc70-4414-4293-8a39-e7eeabb4ba24', 'run_page_url': 'https://dbc-94c947ab-feb9.cloud.databricks.com/?o=4658245941722457#job/52302675431099/run/656206320040153', 'run_type': 'SUBMIT_RUN', 'setup_duration': 317000, 'start_time': 1701368734592, 'state': {'life_cycle_state': 'TERMINATED', 'result_state': 'SUCCESS', 'state_message': '', 'user_cancelled_or_timedout': False}, 'tasks': [{'attempt_number': 0, 'cleanup_duration': 0, 'cluster_instance': {'cluster_id': '1116-014038-st5lherj', 'spark_context_id': '3207010860226238303'}, 'end_time': 1701369103554, 'execution_duration': 51000, 'existing_cluster_id': '1116-014038-st5lherj', 'run_id': 656206320040153, 'setup_duration': 317000, 'spark_python_task': {'parameters': ['{\"data\": \"{\\\\\"id\\\\\":{\\\\\"0\\\\\":1,\\\\\"1\\\\\":2,\\\\\"2\\\\\":3,\\\\\"3\\\\\":4,\\\\\"4\\\\\":5,\\\\\"5\\\\\":6,\\\\\"6\\\\\":7,\\\\\"7\\\\\":8,\\\\\"8\\\\\":9,\\\\\"9\\\\\":10,\\\\\"10\\\\\":11,\\\\\"11\\\\\":12,\\\\\"12\\\\\":13,\\\\\"13\\\\\":14,\\\\\"14\\\\\":15,\\\\\"15\\\\\":16},\\\\\"name\\\\\":{\\\\\"0\\\\\":\\\\\"Alice\\\\\",\\\\\"1\\\\\":\\\\\"Bob\\\\\",\\\\\"2\\\\\":\\\\\"Charlie\\\\\",\\\\\"3\\\\\":\\\\\"David\\\\\",\\\\\"4\\\\\":\\\\\"Eva\\\\\",\\\\\"5\\\\\":\\\\\"Frank\\\\\",\\\\\"6\\\\\":\\\\\"Grace\\\\\",\\\\\"7\\\\\":\\\\\"Henry\\\\\",\\\\\"8\\\\\":\\\\\"Ivy\\\\\",\\\\\"9\\\\\":\\\\\"Jack\\\\\",\\\\\"10\\\\\":\\\\\"Karen\\\\\",\\\\\"11\\\\\":\\\\\"Liam\\\\\",\\\\\"12\\\\\":\\\\\"Mia\\\\\",\\\\\"13\\\\\":\\\\\"Nora\\\\\",\\\\\"14\\\\\":\\\\\"Oliver\\\\\",\\\\\"15\\\\\":\\\\\"Ben\\\\\"},\\\\\"age\\\\\":{\\\\\"0\\\\\":20,\\\\\"1\\\\\":30,\\\\\"2\\\\\":25,\\\\\"3\\\\\":40,\\\\\"4\\\\\":18,\\\\\"5\\\\\":32,\\\\\"6\\\\\":28,\\\\\"7\\\\\":45,\\\\\"8\\\\\":22,\\\\\"9\\\\\":38,\\\\\"10\\\\\":27,\\\\\"11\\\\\":19,\\\\\"12\\\\\":27,\\\\\"13\\\\\":31,\\\\\"14\\\\\":29,\\\\\"15\\\\\":38},\\\\\"favorite_music_type\\\\\":{\\\\\"0\\\\\":\\\\\"Pop\\\\\",\\\\\"1\\\\\":\\\\\"Rock\\\\\",\\\\\"2\\\\\":\\\\\"Pop\\\\\",\\\\\"3\\\\\":\\\\\"Classical\\\\\",\\\\\"4\\\\\":\\\\\"Pop\\\\\",\\\\\"5\\\\\":\\\\\"Rock\\\\\",\\\\\"6\\\\\":\\\\\"Pop\\\\\",\\\\\"7\\\\\":\\\\\"Classical\\\\\",\\\\\"8\\\\\":\\\\\"Pop\\\\\",\\\\\"9\\\\\":\\\\\"Classical\\\\\",\\\\\"10\\\\\":\\\\\"Pop\\\\\",\\\\\"11\\\\\":\\\\\"Pop\\\\\",\\\\\"12\\\\\":\\\\\"Rock\\\\\",\\\\\"13\\\\\":\\\\\"Rock\\\\\",\\\\\"14\\\\\":\\\\\"Pop\\\\\",\\\\\"15\\\\\":\\\\\"Pop\\\\\"}}\", \"data_output_path\": \"dbfs:///music_demo_1/music_data.parquet\", \"stats_output_path\": \"dbfs:///music_demo_1/music_stats.parquet\"}'], 'python_file': 'dbfs:/home/xingsheng_qian@mckinsey.com/mlrun_databricks_runtime/mlrun_task_75a4cc70-4414-4293-8a39-e7eeabb4ba24.py'}, 'start_time': 1701368734592, 'state': {'life_cycle_state': 'TERMINATED', 'result_state': 'SUCCESS', 'state_message': '', 'user_cancelled_or_timedout': False}, 'task_key': 'mlrun_task_75a4cc70-4414-4293-8a39-e7eeabb4ba24'}]}}</div></td>\n",
       "      <td></td>\n",
       "    </tr>\n",
       "  </tbody>\n",
       "</table>\n",
       "</div></div>\n",
       "  <div id=\"result7543f30a-pane\" class=\"right-pane block hidden\">\n",
       "    <div class=\"pane-header\">\n",
       "      <span id=\"result7543f30a-title\" class=\"pane-header-title\">Title</span>\n",
       "      <span onclick=\"closePanel(this)\" paneName=\"result7543f30a\" class=\"close clickable\">&times;</span>\n",
       "    </div>\n",
       "    <iframe class=\"fileview\" id=\"result7543f30a-body\"></iframe>\n",
       "  </div>\n",
       "</div>\n"
      ],
      "text/plain": [
       "<IPython.core.display.HTML object>"
      ]
     },
     "metadata": {},
     "output_type": "display_data"
    },
    {
     "name": "stdout",
     "output_type": "stream",
     "text": [
      "\n"
     ]
    },
    {
     "data": {
      "text/html": [
       "<b> > to track results use the .show() or .logs() methods  or <a href=\"https://dashboard.default-tenant.app.task-force-1.iguazio-cd2.com/mlprojects/databricks-proj/jobs/monitor/d90adf3978ce43b8ba78c5565b9df3a5/overview\" target=\"_blank\">click here</a> to open in UI</b>"
      ],
      "text/plain": [
       "<IPython.core.display.HTML object>"
      ]
     },
     "metadata": {},
     "output_type": "display_data"
    },
    {
     "name": "stdout",
     "output_type": "stream",
     "text": [
      "> 2023-11-30 18:31:58,115 [info] Run execution finished: {'status': 'completed', 'name': 'music-demo-main'}\n"
     ]
    }
   ],
   "source": [
    "run = function.run(\n",
    "    handler=\"main\",\n",
    "    project=project.name,\n",
    "    params=params,\n",
    ")"
   ]
  },
  {
   "cell_type": "code",
   "execution_count": 11,
   "id": "bf6726f7-3248-4031-820f-f134542f4f15",
   "metadata": {},
   "outputs": [],
   "source": [
    "assert run.status.state==\"completed\""
   ]
  },
  {
   "cell_type": "markdown",
   "id": "b5ce0188-8d1d-4f8c-a39d-5ae2a4fa7a67",
   "metadata": {},
   "source": [
    "### Check the Spark job result "
   ]
  },
  {
   "cell_type": "code",
   "execution_count": 12,
   "id": "9830c60b-5c43-4c78-a1e8-0bbcacd915e3",
   "metadata": {},
   "outputs": [
    {
     "name": "stdout",
     "output_type": "stream",
     "text": [
      "dbfs:///music_demo_1/music_stats.parquet\n"
     ]
    }
   ],
   "source": [
    "print(dbfs_stats_path)"
   ]
  },
  {
   "cell_type": "markdown",
   "id": "78814004-e5c6-47d8-94c1-99da2d312792",
   "metadata": {},
   "source": [
    "### Use mlrun.datastore.sources.ParquetSource to access the parquet file stored in Databricks cluster"
   ]
  },
  {
   "cell_type": "code",
   "execution_count": 13,
   "id": "ad98a5b0-af7a-4010-9c89-a0b654ecb5ed",
   "metadata": {},
   "outputs": [
    {
     "name": "stdout",
     "output_type": "stream",
     "text": [
      "{'kind': 'parquet', 'name': 'music_stats', 'path': 'dbfs:///music_demo_1/music_stats.parquet'}\n"
     ]
    }
   ],
   "source": [
    "from mlrun.datastore.sources import ParquetSource\n",
    "music_stats = ParquetSource(\"music_stats\", path=dbfs_stats_path)\n",
    "print(music_stats)"
   ]
  },
  {
   "cell_type": "code",
   "execution_count": 14,
   "id": "213d37c3-781b-47d7-a3ff-4728249738bb",
   "metadata": {},
   "outputs": [
    {
     "data": {
      "text/html": [
       "<div>\n",
       "<style scoped>\n",
       "    .dataframe tbody tr th:only-of-type {\n",
       "        vertical-align: middle;\n",
       "    }\n",
       "\n",
       "    .dataframe tbody tr th {\n",
       "        vertical-align: top;\n",
       "    }\n",
       "\n",
       "    .dataframe thead th {\n",
       "        text-align: right;\n",
       "    }\n",
       "</style>\n",
       "<table border=\"1\" class=\"dataframe\">\n",
       "  <thead>\n",
       "    <tr style=\"text-align: right;\">\n",
       "      <th></th>\n",
       "      <th>favorite_music_type</th>\n",
       "      <th>avg_age</th>\n",
       "      <th>min_age</th>\n",
       "      <th>max_age</th>\n",
       "    </tr>\n",
       "  </thead>\n",
       "  <tbody>\n",
       "    <tr>\n",
       "      <th>0</th>\n",
       "      <td>Rock</td>\n",
       "      <td>30.000000</td>\n",
       "      <td>27</td>\n",
       "      <td>32</td>\n",
       "    </tr>\n",
       "    <tr>\n",
       "      <th>1</th>\n",
       "      <td>Classical</td>\n",
       "      <td>41.000000</td>\n",
       "      <td>38</td>\n",
       "      <td>45</td>\n",
       "    </tr>\n",
       "    <tr>\n",
       "      <th>2</th>\n",
       "      <td>Pop</td>\n",
       "      <td>25.111111</td>\n",
       "      <td>18</td>\n",
       "      <td>38</td>\n",
       "    </tr>\n",
       "  </tbody>\n",
       "</table>\n",
       "</div>"
      ],
      "text/plain": [
       "  favorite_music_type    avg_age  min_age  max_age\n",
       "0                Rock  30.000000       27       32\n",
       "1           Classical  41.000000       38       45\n",
       "2                 Pop  25.111111       18       38"
      ]
     },
     "execution_count": 14,
     "metadata": {},
     "output_type": "execute_result"
    }
   ],
   "source": [
    "music_stats.to_dataframe()"
   ]
  },
  {
   "cell_type": "code",
   "execution_count": 15,
   "id": "d9019993-e0b8-4806-8242-62dd5bf99403",
   "metadata": {},
   "outputs": [],
   "source": [
    "assert music_stats.to_dataframe().shape[0]==3"
   ]
  },
  {
   "cell_type": "code",
   "execution_count": null,
   "id": "6330be83-896b-41dd-afae-e05d809f8425",
   "metadata": {},
   "outputs": [],
   "source": []
  }
 ],
 "metadata": {
  "kernelspec": {
   "display_name": "mlrun-base",
   "language": "python",
   "name": "conda-env-mlrun-base-py"
  },
  "language_info": {
   "codemirror_mode": {
    "name": "ipython",
    "version": 3
   },
   "file_extension": ".py",
   "mimetype": "text/x-python",
   "name": "python",
   "nbconvert_exporter": "python",
   "pygments_lexer": "ipython3",
   "version": "3.9.16"
  }
 },
 "nbformat": 4,
 "nbformat_minor": 5
}
